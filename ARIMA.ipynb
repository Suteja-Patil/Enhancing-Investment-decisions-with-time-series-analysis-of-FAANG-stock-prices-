{
  "nbformat": 4,
  "nbformat_minor": 0,
  "metadata": {
    "colab": {
      "provenance": []
    },
    "kernelspec": {
      "name": "python3",
      "display_name": "Python 3"
    },
    "language_info": {
      "name": "python"
    }
  },
  "cells": [
    {
      "cell_type": "code",
      "source": [
        "import numpy as np\n",
        "import pandas as pd\n",
        "from pmdarima.arima import auto_arima\n",
        "from sklearn.metrics import mean_squared_error\n",
        "import matplotlib.pyplot as plt\n",
        "from statsmodels.tsa.stattools import adfuller\n",
        "from pmdarima.arima.utils import ndiffs"
      ],
      "metadata": {
        "id": "vR5O5fa_Zyqr"
      },
      "execution_count": 1,
      "outputs": []
    },
    {
      "cell_type": "code",
      "execution_count": 2,
      "metadata": {
        "id": "_bHAIxIVZc1k"
      },
      "outputs": [],
      "source": [
        "df=pd.read_csv(\"All_stocks.csv\")"
      ]
    },
    {
      "cell_type": "code",
      "source": [
        "df.head()"
      ],
      "metadata": {
        "colab": {
          "base_uri": "https://localhost:8080/",
          "height": 206
        },
        "id": "b6LC1_7dZ6dD",
        "outputId": "7df0bbd4-d3be-41f5-94d7-a7dd30880064"
      },
      "execution_count": 3,
      "outputs": [
        {
          "output_type": "execute_result",
          "data": {
            "text/plain": [
              "   Unnamed: 0        Date   Close    Volume    Open      High     Low   Name\n",
              "0           0  2023-03-24  160.25  59256340  158.86  160.3400  157.85  Apple\n",
              "1           1  2023-03-23  158.93  67622060  158.83  161.5501  157.68  Apple\n",
              "2           2  2023-03-22  157.83  75701810  159.30  162.1400  157.81  Apple\n",
              "3           3  2023-03-21  159.28  73938290  157.32  159.4000  156.54  Apple\n",
              "4           4  2023-03-20  157.40  73641420  155.07  157.8200  154.15  Apple"
            ],
            "text/html": [
              "\n",
              "  <div id=\"df-1f3c3a8e-787b-4d29-b15a-920e8715e2e4\">\n",
              "    <div class=\"colab-df-container\">\n",
              "      <div>\n",
              "<style scoped>\n",
              "    .dataframe tbody tr th:only-of-type {\n",
              "        vertical-align: middle;\n",
              "    }\n",
              "\n",
              "    .dataframe tbody tr th {\n",
              "        vertical-align: top;\n",
              "    }\n",
              "\n",
              "    .dataframe thead th {\n",
              "        text-align: right;\n",
              "    }\n",
              "</style>\n",
              "<table border=\"1\" class=\"dataframe\">\n",
              "  <thead>\n",
              "    <tr style=\"text-align: right;\">\n",
              "      <th></th>\n",
              "      <th>Unnamed: 0</th>\n",
              "      <th>Date</th>\n",
              "      <th>Close</th>\n",
              "      <th>Volume</th>\n",
              "      <th>Open</th>\n",
              "      <th>High</th>\n",
              "      <th>Low</th>\n",
              "      <th>Name</th>\n",
              "    </tr>\n",
              "  </thead>\n",
              "  <tbody>\n",
              "    <tr>\n",
              "      <th>0</th>\n",
              "      <td>0</td>\n",
              "      <td>2023-03-24</td>\n",
              "      <td>160.25</td>\n",
              "      <td>59256340</td>\n",
              "      <td>158.86</td>\n",
              "      <td>160.3400</td>\n",
              "      <td>157.85</td>\n",
              "      <td>Apple</td>\n",
              "    </tr>\n",
              "    <tr>\n",
              "      <th>1</th>\n",
              "      <td>1</td>\n",
              "      <td>2023-03-23</td>\n",
              "      <td>158.93</td>\n",
              "      <td>67622060</td>\n",
              "      <td>158.83</td>\n",
              "      <td>161.5501</td>\n",
              "      <td>157.68</td>\n",
              "      <td>Apple</td>\n",
              "    </tr>\n",
              "    <tr>\n",
              "      <th>2</th>\n",
              "      <td>2</td>\n",
              "      <td>2023-03-22</td>\n",
              "      <td>157.83</td>\n",
              "      <td>75701810</td>\n",
              "      <td>159.30</td>\n",
              "      <td>162.1400</td>\n",
              "      <td>157.81</td>\n",
              "      <td>Apple</td>\n",
              "    </tr>\n",
              "    <tr>\n",
              "      <th>3</th>\n",
              "      <td>3</td>\n",
              "      <td>2023-03-21</td>\n",
              "      <td>159.28</td>\n",
              "      <td>73938290</td>\n",
              "      <td>157.32</td>\n",
              "      <td>159.4000</td>\n",
              "      <td>156.54</td>\n",
              "      <td>Apple</td>\n",
              "    </tr>\n",
              "    <tr>\n",
              "      <th>4</th>\n",
              "      <td>4</td>\n",
              "      <td>2023-03-20</td>\n",
              "      <td>157.40</td>\n",
              "      <td>73641420</td>\n",
              "      <td>155.07</td>\n",
              "      <td>157.8200</td>\n",
              "      <td>154.15</td>\n",
              "      <td>Apple</td>\n",
              "    </tr>\n",
              "  </tbody>\n",
              "</table>\n",
              "</div>\n",
              "      <button class=\"colab-df-convert\" onclick=\"convertToInteractive('df-1f3c3a8e-787b-4d29-b15a-920e8715e2e4')\"\n",
              "              title=\"Convert this dataframe to an interactive table.\"\n",
              "              style=\"display:none;\">\n",
              "        \n",
              "  <svg xmlns=\"http://www.w3.org/2000/svg\" height=\"24px\"viewBox=\"0 0 24 24\"\n",
              "       width=\"24px\">\n",
              "    <path d=\"M0 0h24v24H0V0z\" fill=\"none\"/>\n",
              "    <path d=\"M18.56 5.44l.94 2.06.94-2.06 2.06-.94-2.06-.94-.94-2.06-.94 2.06-2.06.94zm-11 1L8.5 8.5l.94-2.06 2.06-.94-2.06-.94L8.5 2.5l-.94 2.06-2.06.94zm10 10l.94 2.06.94-2.06 2.06-.94-2.06-.94-.94-2.06-.94 2.06-2.06.94z\"/><path d=\"M17.41 7.96l-1.37-1.37c-.4-.4-.92-.59-1.43-.59-.52 0-1.04.2-1.43.59L10.3 9.45l-7.72 7.72c-.78.78-.78 2.05 0 2.83L4 21.41c.39.39.9.59 1.41.59.51 0 1.02-.2 1.41-.59l7.78-7.78 2.81-2.81c.8-.78.8-2.07 0-2.86zM5.41 20L4 18.59l7.72-7.72 1.47 1.35L5.41 20z\"/>\n",
              "  </svg>\n",
              "      </button>\n",
              "      \n",
              "  <style>\n",
              "    .colab-df-container {\n",
              "      display:flex;\n",
              "      flex-wrap:wrap;\n",
              "      gap: 12px;\n",
              "    }\n",
              "\n",
              "    .colab-df-convert {\n",
              "      background-color: #E8F0FE;\n",
              "      border: none;\n",
              "      border-radius: 50%;\n",
              "      cursor: pointer;\n",
              "      display: none;\n",
              "      fill: #1967D2;\n",
              "      height: 32px;\n",
              "      padding: 0 0 0 0;\n",
              "      width: 32px;\n",
              "    }\n",
              "\n",
              "    .colab-df-convert:hover {\n",
              "      background-color: #E2EBFA;\n",
              "      box-shadow: 0px 1px 2px rgba(60, 64, 67, 0.3), 0px 1px 3px 1px rgba(60, 64, 67, 0.15);\n",
              "      fill: #174EA6;\n",
              "    }\n",
              "\n",
              "    [theme=dark] .colab-df-convert {\n",
              "      background-color: #3B4455;\n",
              "      fill: #D2E3FC;\n",
              "    }\n",
              "\n",
              "    [theme=dark] .colab-df-convert:hover {\n",
              "      background-color: #434B5C;\n",
              "      box-shadow: 0px 1px 3px 1px rgba(0, 0, 0, 0.15);\n",
              "      filter: drop-shadow(0px 1px 2px rgba(0, 0, 0, 0.3));\n",
              "      fill: #FFFFFF;\n",
              "    }\n",
              "  </style>\n",
              "\n",
              "      <script>\n",
              "        const buttonEl =\n",
              "          document.querySelector('#df-1f3c3a8e-787b-4d29-b15a-920e8715e2e4 button.colab-df-convert');\n",
              "        buttonEl.style.display =\n",
              "          google.colab.kernel.accessAllowed ? 'block' : 'none';\n",
              "\n",
              "        async function convertToInteractive(key) {\n",
              "          const element = document.querySelector('#df-1f3c3a8e-787b-4d29-b15a-920e8715e2e4');\n",
              "          const dataTable =\n",
              "            await google.colab.kernel.invokeFunction('convertToInteractive',\n",
              "                                                     [key], {});\n",
              "          if (!dataTable) return;\n",
              "\n",
              "          const docLinkHtml = 'Like what you see? Visit the ' +\n",
              "            '<a target=\"_blank\" href=https://colab.research.google.com/notebooks/data_table.ipynb>data table notebook</a>'\n",
              "            + ' to learn more about interactive tables.';\n",
              "          element.innerHTML = '';\n",
              "          dataTable['output_type'] = 'display_data';\n",
              "          await google.colab.output.renderOutput(dataTable, element);\n",
              "          const docLink = document.createElement('div');\n",
              "          docLink.innerHTML = docLinkHtml;\n",
              "          element.appendChild(docLink);\n",
              "        }\n",
              "      </script>\n",
              "    </div>\n",
              "  </div>\n",
              "  "
            ]
          },
          "metadata": {},
          "execution_count": 3
        }
      ]
    },
    {
      "cell_type": "code",
      "source": [
        "df['Name'].unique()"
      ],
      "metadata": {
        "colab": {
          "base_uri": "https://localhost:8080/"
        },
        "id": "1Oy3756bag8n",
        "outputId": "5eb816f9-3054-46a9-e89d-e49e59d02ada"
      },
      "execution_count": 4,
      "outputs": [
        {
          "output_type": "execute_result",
          "data": {
            "text/plain": [
              "array(['Apple', 'Amazon', 'Facebook', 'Google_classA', 'Google_classC',\n",
              "       'Netflix'], dtype=object)"
            ]
          },
          "metadata": {},
          "execution_count": 4
        }
      ]
    },
    {
      "cell_type": "code",
      "source": [
        "apple_df = df[df['Name'] == 'Apple']\n",
        "amazon_df=df[df['Name'] == 'Amazon']\n",
        "facebook_df=df[df['Name'] == 'Facebook']\n",
        "google_classA_df=df[df['Name'] == 'Google_classA']\n",
        "google_classC_df=df[df['Name'] == 'Google_classC']\n",
        "netflix_df=df[df['Name'] == 'Netflix']"
      ],
      "metadata": {
        "id": "ujHUgOuQZ8_1"
      },
      "execution_count": 5,
      "outputs": []
    },
    {
      "cell_type": "code",
      "source": [
        "names=[apple_df,amazon_df,facebook_df,google_classA_df,google_classC_df,netflix_df]"
      ],
      "metadata": {
        "id": "NNLKoMOAbV1u"
      },
      "execution_count": 6,
      "outputs": []
    },
    {
      "cell_type": "code",
      "source": [
        "apple_df = apple_df.drop(columns=apple_df.columns.difference(['Date', 'Close']))\n",
        "amazon_df = amazon_df.drop(columns=amazon_df.columns.difference(['Date', 'Close']))\n",
        "facebook_df = facebook_df.drop(columns=facebook_df.columns.difference(['Date', 'Close']))\n",
        "google_classA_df = google_classA_df.drop(columns=google_classA_df.columns.difference(['Date', 'Close']))\n",
        "google_classC_df = google_classC_df.drop(columns=google_classC_df.columns.difference(['Date', 'Close']))\n",
        "netflix_df = netflix_df.drop(columns=netflix_df.columns.difference(['Date', 'Close']))"
      ],
      "metadata": {
        "id": "52WpYHS6cNYd"
      },
      "execution_count": 7,
      "outputs": []
    },
    {
      "cell_type": "code",
      "source": [
        "dfs = [apple_df, amazon_df, facebook_df, google_classA_df, google_classC_df, netflix_df]\n",
        "\n",
        "# Loop over the data frames and set the same column as index for each one\n",
        "for df in dfs:\n",
        "    df.set_index('Date', inplace=True)"
      ],
      "metadata": {
        "id": "S8uXSNVteTw_"
      },
      "execution_count": 8,
      "outputs": []
    },
    {
      "cell_type": "code",
      "source": [
        "apple_df.head()"
      ],
      "metadata": {
        "colab": {
          "base_uri": "https://localhost:8080/",
          "height": 238
        },
        "id": "FAdnBfwOeyFH",
        "outputId": "dbf2f348-5766-4c40-f926-b777eaefff45"
      },
      "execution_count": 9,
      "outputs": [
        {
          "output_type": "execute_result",
          "data": {
            "text/plain": [
              "             Close\n",
              "Date              \n",
              "2023-03-24  160.25\n",
              "2023-03-23  158.93\n",
              "2023-03-22  157.83\n",
              "2023-03-21  159.28\n",
              "2023-03-20  157.40"
            ],
            "text/html": [
              "\n",
              "  <div id=\"df-a1583445-5040-43dc-9fea-a4faa75ab01a\">\n",
              "    <div class=\"colab-df-container\">\n",
              "      <div>\n",
              "<style scoped>\n",
              "    .dataframe tbody tr th:only-of-type {\n",
              "        vertical-align: middle;\n",
              "    }\n",
              "\n",
              "    .dataframe tbody tr th {\n",
              "        vertical-align: top;\n",
              "    }\n",
              "\n",
              "    .dataframe thead th {\n",
              "        text-align: right;\n",
              "    }\n",
              "</style>\n",
              "<table border=\"1\" class=\"dataframe\">\n",
              "  <thead>\n",
              "    <tr style=\"text-align: right;\">\n",
              "      <th></th>\n",
              "      <th>Close</th>\n",
              "    </tr>\n",
              "    <tr>\n",
              "      <th>Date</th>\n",
              "      <th></th>\n",
              "    </tr>\n",
              "  </thead>\n",
              "  <tbody>\n",
              "    <tr>\n",
              "      <th>2023-03-24</th>\n",
              "      <td>160.25</td>\n",
              "    </tr>\n",
              "    <tr>\n",
              "      <th>2023-03-23</th>\n",
              "      <td>158.93</td>\n",
              "    </tr>\n",
              "    <tr>\n",
              "      <th>2023-03-22</th>\n",
              "      <td>157.83</td>\n",
              "    </tr>\n",
              "    <tr>\n",
              "      <th>2023-03-21</th>\n",
              "      <td>159.28</td>\n",
              "    </tr>\n",
              "    <tr>\n",
              "      <th>2023-03-20</th>\n",
              "      <td>157.40</td>\n",
              "    </tr>\n",
              "  </tbody>\n",
              "</table>\n",
              "</div>\n",
              "      <button class=\"colab-df-convert\" onclick=\"convertToInteractive('df-a1583445-5040-43dc-9fea-a4faa75ab01a')\"\n",
              "              title=\"Convert this dataframe to an interactive table.\"\n",
              "              style=\"display:none;\">\n",
              "        \n",
              "  <svg xmlns=\"http://www.w3.org/2000/svg\" height=\"24px\"viewBox=\"0 0 24 24\"\n",
              "       width=\"24px\">\n",
              "    <path d=\"M0 0h24v24H0V0z\" fill=\"none\"/>\n",
              "    <path d=\"M18.56 5.44l.94 2.06.94-2.06 2.06-.94-2.06-.94-.94-2.06-.94 2.06-2.06.94zm-11 1L8.5 8.5l.94-2.06 2.06-.94-2.06-.94L8.5 2.5l-.94 2.06-2.06.94zm10 10l.94 2.06.94-2.06 2.06-.94-2.06-.94-.94-2.06-.94 2.06-2.06.94z\"/><path d=\"M17.41 7.96l-1.37-1.37c-.4-.4-.92-.59-1.43-.59-.52 0-1.04.2-1.43.59L10.3 9.45l-7.72 7.72c-.78.78-.78 2.05 0 2.83L4 21.41c.39.39.9.59 1.41.59.51 0 1.02-.2 1.41-.59l7.78-7.78 2.81-2.81c.8-.78.8-2.07 0-2.86zM5.41 20L4 18.59l7.72-7.72 1.47 1.35L5.41 20z\"/>\n",
              "  </svg>\n",
              "      </button>\n",
              "      \n",
              "  <style>\n",
              "    .colab-df-container {\n",
              "      display:flex;\n",
              "      flex-wrap:wrap;\n",
              "      gap: 12px;\n",
              "    }\n",
              "\n",
              "    .colab-df-convert {\n",
              "      background-color: #E8F0FE;\n",
              "      border: none;\n",
              "      border-radius: 50%;\n",
              "      cursor: pointer;\n",
              "      display: none;\n",
              "      fill: #1967D2;\n",
              "      height: 32px;\n",
              "      padding: 0 0 0 0;\n",
              "      width: 32px;\n",
              "    }\n",
              "\n",
              "    .colab-df-convert:hover {\n",
              "      background-color: #E2EBFA;\n",
              "      box-shadow: 0px 1px 2px rgba(60, 64, 67, 0.3), 0px 1px 3px 1px rgba(60, 64, 67, 0.15);\n",
              "      fill: #174EA6;\n",
              "    }\n",
              "\n",
              "    [theme=dark] .colab-df-convert {\n",
              "      background-color: #3B4455;\n",
              "      fill: #D2E3FC;\n",
              "    }\n",
              "\n",
              "    [theme=dark] .colab-df-convert:hover {\n",
              "      background-color: #434B5C;\n",
              "      box-shadow: 0px 1px 3px 1px rgba(0, 0, 0, 0.15);\n",
              "      filter: drop-shadow(0px 1px 2px rgba(0, 0, 0, 0.3));\n",
              "      fill: #FFFFFF;\n",
              "    }\n",
              "  </style>\n",
              "\n",
              "      <script>\n",
              "        const buttonEl =\n",
              "          document.querySelector('#df-a1583445-5040-43dc-9fea-a4faa75ab01a button.colab-df-convert');\n",
              "        buttonEl.style.display =\n",
              "          google.colab.kernel.accessAllowed ? 'block' : 'none';\n",
              "\n",
              "        async function convertToInteractive(key) {\n",
              "          const element = document.querySelector('#df-a1583445-5040-43dc-9fea-a4faa75ab01a');\n",
              "          const dataTable =\n",
              "            await google.colab.kernel.invokeFunction('convertToInteractive',\n",
              "                                                     [key], {});\n",
              "          if (!dataTable) return;\n",
              "\n",
              "          const docLinkHtml = 'Like what you see? Visit the ' +\n",
              "            '<a target=\"_blank\" href=https://colab.research.google.com/notebooks/data_table.ipynb>data table notebook</a>'\n",
              "            + ' to learn more about interactive tables.';\n",
              "          element.innerHTML = '';\n",
              "          dataTable['output_type'] = 'display_data';\n",
              "          await google.colab.output.renderOutput(dataTable, element);\n",
              "          const docLink = document.createElement('div');\n",
              "          docLink.innerHTML = docLinkHtml;\n",
              "          element.appendChild(docLink);\n",
              "        }\n",
              "      </script>\n",
              "    </div>\n",
              "  </div>\n",
              "  "
            ]
          },
          "metadata": {},
          "execution_count": 9
        }
      ]
    },
    {
      "cell_type": "code",
      "source": [
        "df_names = [\"apple\", \"amazon\", \"facebook\", \"google_classA\", \"google_classC\", \"netflix\"]"
      ],
      "metadata": {
        "id": "BRT7dWRuih23"
      },
      "execution_count": 10,
      "outputs": []
    },
    {
      "cell_type": "code",
      "source": [
        "# Create a figure with subplots\n",
        "fig, axs = plt.subplots(nrows=2, ncols=3, figsize=(15, 10))\n",
        "\n",
        "# Loop over the data frames and plot each one on a different subplot\n",
        "for i, df in enumerate(dfs):\n",
        "    row = i // 3\n",
        "    col = i % 3\n",
        "    axs[row, col].plot(df.index, df['Close'])\n",
        "    axs[row, col].set_title('{}'.format(df_names[i]))\n",
        "    axs[row, col].set_xlabel('2013-2023')\n",
        "    axs[row, col].set_ylabel('Closing Price')\n",
        "\n",
        "# Set overall plot title\n",
        "fig.suptitle('Plots of stock prices of FAANG')\n",
        "\n",
        "# Adjust subplot spacing\n",
        "fig.tight_layout()\n",
        "\n",
        "# Show the plot\n",
        "plt.show()"
      ],
      "metadata": {
        "colab": {
          "base_uri": "https://localhost:8080/",
          "height": 726
        },
        "id": "W0pa7q5metW0",
        "outputId": "e8a82934-1d9a-4c40-9dd0-6d2211ed4ab5"
      },
      "execution_count": 11,
      "outputs": [
        {
          "output_type": "display_data",
          "data": {
            "text/plain": [
              "<Figure size 1080x720 with 6 Axes>"
            ],
            "image/png": "[encoded data removed]"
          },
          "metadata": {
            "needs_background": "light"
          }
        }
      ]
    },
    {
      "cell_type": "code",
      "source": [
        "def adf_test(dataframe, company):\n",
        "    result = adfuller(dataframe['Close'])\n",
        "    print('=========For {}========='.format(company))\n",
        "    print('ADF Statistic: {}'.format(result[0]))\n",
        "    print('p-value: {}'.format(result[1]))"
      ],
      "metadata": {
        "id": "Af5G56jJfm63"
      },
      "execution_count": 12,
      "outputs": []
    },
    {
      "cell_type": "code",
      "source": [
        "dfs = [apple_df, amazon_df, facebook_df, google_classA_df, google_classC_df, netflix_df]"
      ],
      "metadata": {
        "id": "nmJkeCgVkkoV"
      },
      "execution_count": 13,
      "outputs": []
    },
    {
      "cell_type": "code",
      "source": [
        "adf_test(apple_df, 'Apple')\n",
        "adf_test(amazon_df, 'Amazon')\n",
        "adf_test(facebook_df, 'Facebook')\n",
        "adf_test(google_classA_df, 'Google_classA')\n",
        "adf_test(google_classC_df ,'Google_classC')\n",
        "adf_test(netflix_df, 'Netflix')"
      ],
      "metadata": {
        "colab": {
          "base_uri": "https://localhost:8080/"
        },
        "id": "R21mnNg2kGun",
        "outputId": "e9fd6151-35c6-4115-857d-2b9aef4e891b"
      },
      "execution_count": 14,
      "outputs": [
        {
          "output_type": "stream",
          "name": "stdout",
          "text": [
            "=========For Apple=========\n",
            "ADF Statistic: -2.160014501156946\n",
            "p-value: 0.2210764910923933\n",
            "=========For Amazon=========\n",
            "ADF Statistic: -1.300557854829431\n",
            "p-value: 0.6289170557855915\n",
            "=========For Facebook=========\n",
            "ADF Statistic: -1.2882503307813684\n",
            "p-value: 0.6345305114651308\n",
            "=========For Google_classA=========\n",
            "ADF Statistic: -1.5032593405156323\n",
            "p-value: 0.5318983779870899\n",
            "=========For Google_classC=========\n",
            "ADF Statistic: -1.5278470129535293\n",
            "p-value: 0.519693615086694\n",
            "=========For Netflix=========\n",
            "ADF Statistic: -1.8468719960054785\n",
            "p-value: 0.3574516492872656\n"
          ]
        }
      ]
    },
    {
      "cell_type": "code",
      "source": [
        "def get_degree_of_differencing(dataframe, company):\n",
        "    company_ndiffs = ndiffs(dataframe['Close'], test = 'adf')\n",
        "    print(f'The degree of differencing is {company_ndiffs} for {company}')\n",
        "    return company_ndiffs"
      ],
      "metadata": {
        "id": "8MeL3kzek4c1"
      },
      "execution_count": 15,
      "outputs": []
    },
    {
      "cell_type": "code",
      "source": [
        "aapl_dd = get_degree_of_differencing(apple_df, 'Apple')\n",
        "amzn_dd = get_degree_of_differencing(amazon_df, 'Amazon')\n",
        "fcbk_dd = get_degree_of_differencing(facebook_df, 'Facebook')\n",
        "googA_dd = get_degree_of_differencing(google_classA_df, 'Google class A')\n",
        "googC_dd = get_degree_of_differencing(google_classC_df ,'Google class C')\n",
        "ntfx_dd = get_degree_of_differencing(netflix_df, 'Netlfix')"
      ],
      "metadata": {
        "colab": {
          "base_uri": "https://localhost:8080/"
        },
        "id": "maeljKpnlhCu",
        "outputId": "af123353-964d-4a18-a581-4c951e7f16e2"
      },
      "execution_count": 16,
      "outputs": [
        {
          "output_type": "stream",
          "name": "stdout",
          "text": [
            "The degree of differencing is 0 for Apple\n",
            "The degree of differencing is 1 for Amazon\n",
            "The degree of differencing is 1 for Facebook\n",
            "The degree of differencing is 0 for Google class A\n",
            "The degree of differencing is 0 for Google class C\n",
            "The degree of differencing is 0 for Netlfix\n"
          ]
        }
      ]
    },
    {
      "cell_type": "code",
      "source": [
        "def arima_split(dataframe, company):\n",
        "    size = int(len(dataframe) * 0.95)\n",
        "    train = (dataframe['Close'])[:size]\n",
        "    test = (dataframe['Close'])[size:]\n",
        "    \n",
        "    print('=========For {}========='.format(company))\n",
        "    print('Train Size: {}, Test Size: {}'.format(len(train), len(test)))\n",
        "    \n",
        "    return train, test"
      ],
      "metadata": {
        "id": "Kqm3v2HpmI5d"
      },
      "execution_count": 17,
      "outputs": []
    },
    {
      "cell_type": "code",
      "source": [
        "aapl_train, aapl_test = arima_split(apple_df, 'Apple')\n",
        "amzn_train, amzn_test = arima_split(amazon_df, 'Amazon')\n",
        "meta_train, meta_test = arima_split(facebook_df, 'Facebook')\n",
        "googA_train, googA_test = arima_split(google_classA_df, 'Google class A')\n",
        "googC_train, googC_test = arima_split(google_classC_df, 'Google class C')\n",
        "ntfx_train, ntfx_test = arima_split(netflix_df, 'Netlfix')"
      ],
      "metadata": {
        "colab": {
          "base_uri": "https://localhost:8080/"
        },
        "id": "PgMg2AmemZ8F",
        "outputId": "3140a5e1-074c-48a2-f6fe-73c448e32319"
      },
      "execution_count": 18,
      "outputs": [
        {
          "output_type": "stream",
          "name": "stdout",
          "text": [
            "=========For Apple=========\n",
            "Train Size: 10127, Test Size: 534\n",
            "=========For Amazon=========\n",
            "Train Size: 6183, Test Size: 326\n",
            "=========For Facebook=========\n",
            "Train Size: 2594, Test Size: 137\n",
            "=========For Google class A=========\n",
            "Train Size: 2151, Test Size: 114\n",
            "=========For Google class C=========\n",
            "Train Size: 4447, Test Size: 235\n",
            "=========For Netlfix=========\n",
            "Train Size: 4983, Test Size: 263\n"
          ]
        }
      ]
    },
    {
      "cell_type": "code",
      "source": [
        "def find_best_fit_arima(data, company):\n",
        "    print('=========For {}========='.format(company))\n",
        "\n",
        "    model = auto_arima(data, test = 'adf', \n",
        "                          start_p = 1, start_q = 1,     \n",
        "                          max_p = 3, max_q = 3,\n",
        "                          d = None, seasonal = True,   \n",
        "                          start_P = 0, m = 3,\n",
        "                          trace = True, error_action = 'ignore',  \n",
        "                          suppress_warnings = True, stepwise = True,\n",
        "                          D = 1, information_criterion = 'aic')\n",
        "\n",
        "    print(model.summary())\n",
        "    print('\\n')\n",
        "    \n",
        "    return model"
      ],
      "metadata": {
        "id": "NEY03938m74M"
      },
      "execution_count": 19,
      "outputs": []
    },
    {
      "cell_type": "code",
      "source": [
        "aapl_arima_model = find_best_fit_arima(aapl_train, 'Apple')\n",
        "amzn_arima_model = find_best_fit_arima(amzn_train, 'Amazon')\n",
        "meta_arima_model = find_best_fit_arima(meta_train, 'Facebook')\n",
        "googA_arima_model = find_best_fit_arima(googA_train, 'Google class A')\n",
        "googC_arima_model = find_best_fit_arima(googC_train, 'Google class C')\n",
        "ntfx_arima_model = find_best_fit_arima(ntfx_train, 'Netlfix')"
      ],
      "metadata": {
        "colab": {
          "base_uri": "https://localhost:8080/"
        },
        "id": "vlm7YVldnH22",
        "outputId": "12f0e953-246e-4278-bd78-cd4a62468c79"
      },
      "execution_count": 20,
      "outputs": [
        {
          "output_type": "stream",
          "name": "stdout",
          "text": [
            "=========For Apple=========\n",
            "Performing stepwise search to minimize aic\n",
            " ARIMA(1,0,1)(0,1,1)[3] intercept   : AIC=inf, Time=28.96 sec\n",
            " ARIMA(0,0,0)(0,1,0)[3] intercept   : AIC=50490.858, Time=0.43 sec\n",
            " ARIMA(1,0,0)(1,1,0)[3] intercept   : AIC=44378.026, Time=6.14 sec\n",
            " ARIMA(0,0,1)(0,1,1)[3] intercept   : AIC=47067.374, Time=6.41 sec\n",
            " ARIMA(0,0,0)(0,1,0)[3]             : AIC=50489.229, Time=0.30 sec\n",
            " ARIMA(1,0,0)(0,1,0)[3] intercept   : AIC=46259.545, Time=1.20 sec\n",
            " ARIMA(1,0,0)(2,1,0)[3] intercept   : AIC=43551.296, Time=9.46 sec\n",
            " ARIMA(1,0,0)(2,1,1)[3] intercept   : AIC=inf, Time=44.94 sec\n",
            " ARIMA(1,0,0)(1,1,1)[3] intercept   : AIC=inf, Time=39.96 sec\n",
            " ARIMA(0,0,0)(2,1,0)[3] intercept   : AIC=50458.407, Time=8.67 sec\n",
            " ARIMA(2,0,0)(2,1,0)[3] intercept   : AIC=43521.786, Time=14.21 sec\n",
            " ARIMA(2,0,0)(1,1,0)[3] intercept   : AIC=44371.836, Time=6.96 sec\n",
            " ARIMA(2,0,0)(2,1,1)[3] intercept   : AIC=inf, Time=55.76 sec\n",
            " ARIMA(2,0,0)(1,1,1)[3] intercept   : AIC=inf, Time=46.15 sec\n",
            " ARIMA(2,0,1)(2,1,0)[3] intercept   : AIC=43437.770, Time=24.72 sec\n",
            " ARIMA(2,0,1)(1,1,0)[3] intercept   : AIC=44278.547, Time=13.43 sec\n",
            " ARIMA(2,0,1)(2,1,1)[3] intercept   : AIC=inf, Time=65.85 sec\n",
            " ARIMA(2,0,1)(1,1,1)[3] intercept   : AIC=inf, Time=45.72 sec\n",
            " ARIMA(1,0,1)(2,1,0)[3] intercept   : AIC=43528.960, Time=12.45 sec\n",
            " ARIMA(2,0,2)(2,1,0)[3] intercept   : AIC=inf, Time=65.17 sec\n",
            " ARIMA(1,0,2)(2,1,0)[3] intercept   : AIC=inf, Time=50.30 sec\n",
            " ARIMA(2,0,1)(2,1,0)[3]             : AIC=43435.862, Time=5.80 sec\n",
            " ARIMA(2,0,1)(1,1,0)[3]             : AIC=44276.626, Time=3.10 sec\n",
            " ARIMA(2,0,1)(2,1,1)[3]             : AIC=inf, Time=26.14 sec\n",
            " ARIMA(2,0,1)(1,1,1)[3]             : AIC=inf, Time=14.83 sec\n",
            " ARIMA(1,0,1)(2,1,0)[3]             : AIC=43527.051, Time=4.83 sec\n",
            " ARIMA(2,0,0)(2,1,0)[3]             : AIC=43519.875, Time=3.31 sec\n",
            " ARIMA(2,0,2)(2,1,0)[3]             : AIC=inf, Time=32.94 sec\n",
            " ARIMA(1,0,0)(2,1,0)[3]             : AIC=43549.397, Time=3.72 sec\n",
            " ARIMA(1,0,2)(2,1,0)[3]             : AIC=inf, Time=25.44 sec\n",
            "\n",
            "Best model:  ARIMA(2,0,1)(2,1,0)[3]          \n",
            "Total fit time: 667.404 seconds\n",
            "                                     SARIMAX Results                                      \n",
            "==========================================================================================\n",
            "Dep. Variable:                                  y   No. Observations:                10127\n",
            "Model:             SARIMAX(2, 0, 1)x(2, 1, [], 3)   Log Likelihood              -21711.931\n",
            "Date:                            Mon, 27 Mar 2023   AIC                          43435.862\n",
            "Time:                                    21:19:22   BIC                          43479.198\n",
            "Sample:                                         0   HQIC                         43450.522\n",
            "                                          - 10127                                         \n",
            "Covariance Type:                              opg                                         \n",
            "==============================================================================\n",
            "                 coef    std err          z      P>|z|      [0.025      0.975]\n",
            "------------------------------------------------------------------------------\n",
            "ar.L1          0.0894      0.009     10.179      0.000       0.072       0.107\n",
            "ar.L2          0.5813      0.007     87.938      0.000       0.568       0.594\n",
            "ma.L1          0.6356      0.009     71.434      0.000       0.618       0.653\n",
            "ar.S.L3       -0.5677      0.001   -466.630      0.000      -0.570      -0.565\n",
            "ar.S.L6       -0.2975      0.001   -383.965      0.000      -0.299      -0.296\n",
            "sigma2         4.2682      0.002   2821.132      0.000       4.265       4.271\n",
            "===================================================================================\n",
            "Ljung-Box (L1) (Q):                  11.24   Jarque-Bera (JB):        4241637197.79\n",
            "Prob(Q):                              0.00   Prob(JB):                         0.00\n",
            "Heteroskedasticity (H):               0.40   Skew:                           -37.43\n",
            "Prob(H) (two-sided):                  0.00   Kurtosis:                      3173.12\n",
            "===================================================================================\n",
            "\n",
            "Warnings:\n",
            "[1] Covariance matrix calculated using the outer product of gradients (complex-step).\n",
            "\n",
            "\n",
            "=========For Amazon=========\n",
            "Performing stepwise search to minimize aic\n",
            " ARIMA(1,0,1)(0,1,1)[3] intercept   : AIC=inf, Time=20.92 sec\n",
            " ARIMA(0,0,0)(0,1,0)[3] intercept   : AIC=46011.230, Time=0.17 sec\n",
            " ARIMA(1,0,0)(1,1,0)[3] intercept   : AIC=44522.201, Time=2.26 sec\n",
            " ARIMA(0,0,1)(0,1,1)[3] intercept   : AIC=43652.212, Time=2.68 sec\n",
            " ARIMA(0,0,0)(0,1,0)[3]             : AIC=46009.288, Time=0.20 sec\n",
            " ARIMA(0,0,1)(0,1,0)[3] intercept   : AIC=45990.317, Time=2.54 sec\n",
            " ARIMA(0,0,1)(1,1,1)[3] intercept   : AIC=43653.317, Time=3.54 sec\n",
            " ARIMA(0,0,1)(0,1,2)[3] intercept   : AIC=43653.346, Time=4.13 sec\n",
            " ARIMA(0,0,1)(1,1,0)[3] intercept   : AIC=44535.118, Time=2.59 sec\n",
            " ARIMA(0,0,1)(1,1,2)[3] intercept   : AIC=43650.284, Time=23.71 sec\n",
            " ARIMA(0,0,1)(2,1,2)[3] intercept   : AIC=43652.028, Time=26.90 sec\n",
            " ARIMA(0,0,1)(2,1,1)[3] intercept   : AIC=43654.444, Time=7.48 sec\n",
            " ARIMA(0,0,0)(1,1,2)[3] intercept   : AIC=43857.953, Time=18.42 sec\n",
            " ARIMA(1,0,1)(1,1,2)[3] intercept   : AIC=inf, Time=30.38 sec\n",
            " ARIMA(0,0,2)(1,1,2)[3] intercept   : AIC=43405.389, Time=14.09 sec\n",
            " ARIMA(0,0,2)(0,1,2)[3] intercept   : AIC=43404.577, Time=8.16 sec\n",
            " ARIMA(0,0,2)(0,1,1)[3] intercept   : AIC=43428.673, Time=4.59 sec\n",
            " ARIMA(0,0,2)(1,1,1)[3] intercept   : AIC=43403.824, Time=7.50 sec\n",
            " ARIMA(0,0,2)(1,1,0)[3] intercept   : AIC=44460.668, Time=4.60 sec\n",
            " ARIMA(0,0,2)(2,1,1)[3] intercept   : AIC=43405.552, Time=10.43 sec\n",
            " ARIMA(0,0,2)(0,1,0)[3] intercept   : AIC=45608.070, Time=5.94 sec\n",
            " ARIMA(0,0,2)(2,1,0)[3] intercept   : AIC=43942.958, Time=6.77 sec\n",
            " ARIMA(0,0,2)(2,1,2)[3] intercept   : AIC=43407.739, Time=11.91 sec\n",
            " ARIMA(1,0,2)(1,1,1)[3] intercept   : AIC=43309.169, Time=10.92 sec\n",
            " ARIMA(1,0,2)(0,1,1)[3] intercept   : AIC=43422.836, Time=8.13 sec\n",
            " ARIMA(1,0,2)(1,1,0)[3] intercept   : AIC=inf, Time=18.76 sec\n",
            " ARIMA(1,0,2)(2,1,1)[3] intercept   : AIC=43311.089, Time=11.45 sec\n",
            " ARIMA(1,0,2)(1,1,2)[3] intercept   : AIC=43311.081, Time=15.33 sec\n",
            " ARIMA(1,0,2)(0,1,0)[3] intercept   : AIC=inf, Time=6.37 sec\n",
            " ARIMA(1,0,2)(0,1,2)[3] intercept   : AIC=43323.595, Time=10.74 sec\n",
            " ARIMA(1,0,2)(2,1,0)[3] intercept   : AIC=43864.323, Time=12.81 sec\n",
            " ARIMA(1,0,2)(2,1,2)[3] intercept   : AIC=43313.163, Time=14.84 sec\n",
            " ARIMA(1,0,1)(1,1,1)[3] intercept   : AIC=inf, Time=17.89 sec\n",
            " ARIMA(2,0,2)(1,1,1)[3] intercept   : AIC=inf, Time=23.09 sec\n",
            " ARIMA(2,0,1)(1,1,1)[3] intercept   : AIC=inf, Time=20.68 sec\n",
            " ARIMA(1,0,2)(1,1,1)[3]             : AIC=43308.066, Time=3.71 sec\n",
            " ARIMA(1,0,2)(0,1,1)[3]             : AIC=43421.458, Time=2.68 sec\n",
            " ARIMA(1,0,2)(1,1,0)[3]             : AIC=inf, Time=9.36 sec\n",
            " ARIMA(1,0,2)(2,1,1)[3]             : AIC=43309.993, Time=3.97 sec\n",
            " ARIMA(1,0,2)(1,1,2)[3]             : AIC=43309.986, Time=5.46 sec\n",
            " ARIMA(1,0,2)(0,1,0)[3]             : AIC=inf, Time=5.02 sec\n",
            " ARIMA(1,0,2)(0,1,2)[3]             : AIC=43322.370, Time=3.43 sec\n",
            " ARIMA(1,0,2)(2,1,0)[3]             : AIC=43862.471, Time=3.02 sec\n",
            " ARIMA(1,0,2)(2,1,2)[3]             : AIC=43312.061, Time=6.25 sec\n",
            " ARIMA(0,0,2)(1,1,1)[3]             : AIC=43402.680, Time=2.39 sec\n",
            " ARIMA(1,0,1)(1,1,1)[3]             : AIC=inf, Time=10.86 sec\n",
            " ARIMA(2,0,2)(1,1,1)[3]             : AIC=inf, Time=11.88 sec\n",
            " ARIMA(0,0,1)(1,1,1)[3]             : AIC=43652.113, Time=1.37 sec\n",
            " ARIMA(2,0,1)(1,1,1)[3]             : AIC=inf, Time=13.55 sec\n",
            "\n",
            "Best model:  ARIMA(1,0,2)(1,1,1)[3]          \n",
            "Total fit time: 474.000 seconds\n",
            "                                      SARIMAX Results                                      \n",
            "===========================================================================================\n",
            "Dep. Variable:                                   y   No. Observations:                 6183\n",
            "Model:             SARIMAX(1, 0, 2)x(1, 1, [1], 3)   Log Likelihood              -21648.033\n",
            "Date:                             Mon, 27 Mar 2023   AIC                          43308.066\n",
            "Time:                                     21:27:16   BIC                          43348.440\n",
            "Sample:                                          0   HQIC                         43322.066\n",
            "                                            - 6183                                         \n",
            "Covariance Type:                               opg                                         \n",
            "==============================================================================\n",
            "                 coef    std err          z      P>|z|      [0.025      0.975]\n",
            "------------------------------------------------------------------------------\n",
            "ar.L1         -0.4715      0.011    -43.086      0.000      -0.493      -0.450\n",
            "ma.L1          0.7233      0.011     66.355      0.000       0.702       0.745\n",
            "ma.L2          0.3925      0.003    132.729      0.000       0.387       0.398\n",
            "ar.S.L3        0.2746      0.005     57.909      0.000       0.265       0.284\n",
            "ma.S.L3       -0.8322      0.002   -344.470      0.000      -0.837      -0.827\n",
            "sigma2        64.5500      0.030   2143.726      0.000      64.491      64.609\n",
            "===================================================================================\n",
            "Ljung-Box (L1) (Q):                   2.26   Jarque-Bera (JB):        2378129766.45\n",
            "Prob(Q):                              0.13   Prob(JB):                         0.00\n",
            "Heteroskedasticity (H):               7.40   Skew:                            43.03\n",
            "Prob(H) (two-sided):                  0.00   Kurtosis:                      3040.77\n",
            "===================================================================================\n",
            "\n",
            "Warnings:\n",
            "[1] Covariance matrix calculated using the outer product of gradients (complex-step).\n",
            "\n",
            "\n",
            "=========For Facebook=========\n",
            "Performing stepwise search to minimize aic\n",
            " ARIMA(1,0,1)(0,1,1)[3] intercept   : AIC=inf, Time=6.53 sec\n",
            " ARIMA(0,0,0)(0,1,0)[3] intercept   : AIC=18035.867, Time=0.11 sec\n",
            " ARIMA(1,0,0)(1,1,0)[3] intercept   : AIC=16046.165, Time=1.03 sec\n",
            " ARIMA(0,0,1)(0,1,1)[3] intercept   : AIC=16883.480, Time=1.89 sec\n",
            " ARIMA(0,0,0)(0,1,0)[3]             : AIC=18033.869, Time=0.13 sec\n",
            " ARIMA(1,0,0)(0,1,0)[3] intercept   : AIC=16643.525, Time=0.45 sec\n",
            " ARIMA(1,0,0)(2,1,0)[3] intercept   : AIC=15716.111, Time=2.47 sec\n",
            " ARIMA(1,0,0)(2,1,1)[3] intercept   : AIC=inf, Time=11.75 sec\n",
            " ARIMA(1,0,0)(1,1,1)[3] intercept   : AIC=inf, Time=6.21 sec\n",
            " ARIMA(0,0,0)(2,1,0)[3] intercept   : AIC=18021.438, Time=0.82 sec\n",
            " ARIMA(2,0,0)(2,1,0)[3] intercept   : AIC=15704.025, Time=3.30 sec\n",
            " ARIMA(2,0,0)(1,1,0)[3] intercept   : AIC=16021.352, Time=2.89 sec\n",
            " ARIMA(2,0,0)(2,1,1)[3] intercept   : AIC=inf, Time=9.68 sec\n",
            " ARIMA(2,0,0)(1,1,1)[3] intercept   : AIC=inf, Time=8.12 sec\n",
            " ARIMA(2,0,1)(2,1,0)[3] intercept   : AIC=15717.344, Time=11.20 sec\n",
            " ARIMA(1,0,1)(2,1,0)[3] intercept   : AIC=15707.471, Time=2.45 sec\n",
            " ARIMA(2,0,0)(2,1,0)[3]             : AIC=15702.025, Time=1.08 sec\n",
            " ARIMA(2,0,0)(1,1,0)[3]             : AIC=16019.353, Time=0.58 sec\n",
            " ARIMA(2,0,0)(2,1,1)[3]             : AIC=inf, Time=4.92 sec\n",
            " ARIMA(2,0,0)(1,1,1)[3]             : AIC=inf, Time=3.86 sec\n",
            " ARIMA(1,0,0)(2,1,0)[3]             : AIC=15714.111, Time=0.79 sec\n",
            " ARIMA(2,0,1)(2,1,0)[3]             : AIC=15718.110, Time=1.19 sec\n",
            " ARIMA(1,0,1)(2,1,0)[3]             : AIC=15705.471, Time=0.97 sec\n",
            "\n",
            "Best model:  ARIMA(2,0,0)(2,1,0)[3]          \n",
            "Total fit time: 82.463 seconds\n",
            "                                     SARIMAX Results                                     \n",
            "=========================================================================================\n",
            "Dep. Variable:                                 y   No. Observations:                 2594\n",
            "Model:             SARIMAX(2, 0, 0)x(2, 1, 0, 3)   Log Likelihood               -7846.012\n",
            "Date:                           Mon, 27 Mar 2023   AIC                          15702.025\n",
            "Time:                                   21:28:39   BIC                          15731.324\n",
            "Sample:                                        0   HQIC                         15712.643\n",
            "                                          - 2594                                         \n",
            "Covariance Type:                             opg                                         \n",
            "==============================================================================\n",
            "                 coef    std err          z      P>|z|      [0.025      0.975]\n",
            "------------------------------------------------------------------------------\n",
            "ar.L1          0.9074      0.011     81.438      0.000       0.886       0.929\n",
            "ar.L2         -0.0740      0.011     -6.544      0.000      -0.096      -0.052\n",
            "ar.S.L3       -0.6725      0.008    -85.215      0.000      -0.688      -0.657\n",
            "ar.S.L6       -0.3594      0.006    -57.242      0.000      -0.372      -0.347\n",
            "sigma2        24.9693      0.096    258.863      0.000      24.780      25.158\n",
            "===================================================================================\n",
            "Ljung-Box (L1) (Q):                   0.23   Jarque-Bera (JB):           1513010.13\n",
            "Prob(Q):                              0.63   Prob(JB):                         0.00\n",
            "Heteroskedasticity (H):               1.72   Skew:                            -5.73\n",
            "Prob(H) (two-sided):                  0.00   Kurtosis:                       120.83\n",
            "===================================================================================\n",
            "\n",
            "Warnings:\n",
            "[1] Covariance matrix calculated using the outer product of gradients (complex-step).\n",
            "\n",
            "\n",
            "=========For Google class A=========\n",
            "Performing stepwise search to minimize aic\n",
            " ARIMA(1,0,1)(0,1,1)[3] intercept   : AIC=inf, Time=6.01 sec\n",
            " ARIMA(0,0,0)(0,1,0)[3] intercept   : AIC=19120.409, Time=0.13 sec\n",
            " ARIMA(1,0,0)(1,1,0)[3] intercept   : AIC=18543.901, Time=2.27 sec\n",
            " ARIMA(0,0,1)(0,1,1)[3] intercept   : AIC=18039.341, Time=1.21 sec\n",
            " ARIMA(0,0,0)(0,1,0)[3]             : AIC=19118.422, Time=0.08 sec\n",
            " ARIMA(0,0,1)(0,1,0)[3] intercept   : AIC=19121.735, Time=0.53 sec\n",
            " ARIMA(0,0,1)(1,1,1)[3] intercept   : AIC=18041.287, Time=1.51 sec\n",
            " ARIMA(0,0,1)(0,1,2)[3] intercept   : AIC=18041.287, Time=1.91 sec\n",
            " ARIMA(0,0,1)(1,1,0)[3] intercept   : AIC=18544.056, Time=1.04 sec\n",
            " ARIMA(0,0,1)(1,1,2)[3] intercept   : AIC=18043.321, Time=2.46 sec\n",
            " ARIMA(0,0,0)(0,1,1)[3] intercept   : AIC=18059.613, Time=0.77 sec\n",
            " ARIMA(0,0,2)(0,1,1)[3] intercept   : AIC=18018.185, Time=3.09 sec\n",
            " ARIMA(0,0,2)(0,1,0)[3] intercept   : AIC=19088.877, Time=1.86 sec\n",
            " ARIMA(0,0,2)(1,1,1)[3] intercept   : AIC=18019.147, Time=2.26 sec\n",
            " ARIMA(0,0,2)(0,1,2)[3] intercept   : AIC=18019.148, Time=2.77 sec\n",
            " ARIMA(0,0,2)(1,1,0)[3] intercept   : AIC=18542.980, Time=0.83 sec\n",
            " ARIMA(0,0,2)(1,1,2)[3] intercept   : AIC=18021.146, Time=11.12 sec\n",
            " ARIMA(1,0,2)(0,1,1)[3] intercept   : AIC=inf, Time=6.53 sec\n",
            " ARIMA(0,0,2)(0,1,1)[3]             : AIC=18016.822, Time=0.76 sec\n",
            " ARIMA(0,0,2)(0,1,0)[3]             : AIC=19086.877, Time=1.81 sec\n",
            " ARIMA(0,0,2)(1,1,1)[3]             : AIC=18017.816, Time=1.84 sec\n",
            " ARIMA(0,0,2)(0,1,2)[3]             : AIC=18017.817, Time=1.19 sec\n",
            " ARIMA(0,0,2)(1,1,0)[3]             : AIC=18541.012, Time=0.36 sec\n",
            " ARIMA(0,0,2)(1,1,2)[3]             : AIC=18019.816, Time=3.26 sec\n",
            " ARIMA(0,0,1)(0,1,1)[3]             : AIC=18037.998, Time=0.57 sec\n",
            " ARIMA(1,0,2)(0,1,1)[3]             : AIC=inf, Time=6.14 sec\n",
            " ARIMA(1,0,1)(0,1,1)[3]             : AIC=inf, Time=2.40 sec\n",
            "\n",
            "Best model:  ARIMA(0,0,2)(0,1,1)[3]          \n",
            "Total fit time: 64.752 seconds\n",
            "                                      SARIMAX Results                                      \n",
            "===========================================================================================\n",
            "Dep. Variable:                                   y   No. Observations:                 2151\n",
            "Model:             SARIMAX(0, 0, 2)x(0, 1, [1], 3)   Log Likelihood               -9004.411\n",
            "Date:                             Mon, 27 Mar 2023   AIC                          18016.822\n",
            "Time:                                     21:29:43   BIC                          18039.511\n",
            "Sample:                                          0   HQIC                         18025.123\n",
            "                                            - 2151                                         \n",
            "Covariance Type:                               opg                                         \n",
            "==============================================================================\n",
            "                 coef    std err          z      P>|z|      [0.025      0.975]\n",
            "------------------------------------------------------------------------------\n",
            "ma.L1          0.1126      0.005     23.154      0.000       0.103       0.122\n",
            "ma.L2          0.0996      0.006     15.955      0.000       0.087       0.112\n",
            "ma.S.L3       -0.8352      0.003   -264.467      0.000      -0.841      -0.829\n",
            "sigma2       255.8039      0.293    873.344      0.000     255.230     256.378\n",
            "===================================================================================\n",
            "Ljung-Box (L1) (Q):                   0.00   Jarque-Bera (JB):         181373904.99\n",
            "Prob(Q):                              1.00   Prob(JB):                         0.00\n",
            "Heteroskedasticity (H):               0.02   Skew:                            33.43\n",
            "Prob(H) (two-sided):                  0.00   Kurtosis:                      1424.99\n",
            "===================================================================================\n",
            "\n",
            "Warnings:\n",
            "[1] Covariance matrix calculated using the outer product of gradients (complex-step).\n",
            "\n",
            "\n",
            "=========For Google class C=========\n",
            "Performing stepwise search to minimize aic\n",
            " ARIMA(1,0,1)(0,1,1)[3] intercept   : AIC=inf, Time=9.33 sec\n",
            " ARIMA(0,0,0)(0,1,0)[3] intercept   : AIC=36617.622, Time=0.24 sec\n",
            " ARIMA(1,0,0)(1,1,0)[3] intercept   : AIC=35443.517, Time=2.97 sec\n",
            " ARIMA(0,0,1)(0,1,1)[3] intercept   : AIC=34510.353, Time=2.30 sec\n",
            " ARIMA(0,0,0)(0,1,0)[3]             : AIC=36615.632, Time=0.11 sec\n",
            " ARIMA(0,0,1)(0,1,0)[3] intercept   : AIC=36617.178, Time=0.56 sec\n",
            " ARIMA(0,0,1)(1,1,1)[3] intercept   : AIC=34512.269, Time=2.89 sec\n",
            " ARIMA(0,0,1)(0,1,2)[3] intercept   : AIC=34512.269, Time=3.57 sec\n",
            " ARIMA(0,0,1)(1,1,0)[3] intercept   : AIC=35444.259, Time=3.53 sec\n",
            " ARIMA(0,0,1)(1,1,2)[3] intercept   : AIC=34514.312, Time=5.18 sec\n",
            " ARIMA(0,0,0)(0,1,1)[3] intercept   : AIC=34570.738, Time=1.27 sec\n",
            " ARIMA(0,0,2)(0,1,1)[3] intercept   : AIC=34445.614, Time=3.06 sec\n",
            " ARIMA(0,0,2)(0,1,0)[3] intercept   : AIC=36518.065, Time=6.10 sec\n",
            " ARIMA(0,0,2)(1,1,1)[3] intercept   : AIC=34444.133, Time=4.46 sec\n",
            " ARIMA(0,0,2)(1,1,0)[3] intercept   : AIC=35435.158, Time=1.92 sec\n",
            " ARIMA(0,0,2)(2,1,1)[3] intercept   : AIC=34446.131, Time=7.95 sec\n",
            " ARIMA(0,0,2)(1,1,2)[3] intercept   : AIC=34446.131, Time=15.04 sec\n",
            " ARIMA(0,0,2)(0,1,2)[3] intercept   : AIC=34444.143, Time=5.66 sec\n",
            " ARIMA(0,0,2)(2,1,0)[3] intercept   : AIC=34992.489, Time=4.38 sec\n",
            " ARIMA(0,0,2)(2,1,2)[3] intercept   : AIC=34448.133, Time=6.72 sec\n",
            " ARIMA(1,0,2)(1,1,1)[3] intercept   : AIC=34424.505, Time=8.08 sec\n",
            " ARIMA(1,0,2)(0,1,1)[3] intercept   : AIC=inf, Time=14.45 sec\n",
            " ARIMA(1,0,2)(1,1,0)[3] intercept   : AIC=35373.314, Time=4.11 sec\n",
            " ARIMA(1,0,2)(2,1,1)[3] intercept   : AIC=34426.486, Time=9.08 sec\n",
            " ARIMA(1,0,2)(1,1,2)[3] intercept   : AIC=34426.485, Time=16.38 sec\n",
            " ARIMA(1,0,2)(0,1,0)[3] intercept   : AIC=inf, Time=8.87 sec\n",
            " ARIMA(1,0,2)(0,1,2)[3] intercept   : AIC=34424.850, Time=9.62 sec\n",
            " ARIMA(1,0,2)(2,1,0)[3] intercept   : AIC=34969.792, Time=5.68 sec\n",
            " ARIMA(1,0,2)(2,1,2)[3] intercept   : AIC=34428.487, Time=14.28 sec\n",
            " ARIMA(1,0,1)(1,1,1)[3] intercept   : AIC=inf, Time=12.51 sec\n",
            " ARIMA(2,0,2)(1,1,1)[3] intercept   : AIC=inf, Time=17.29 sec\n",
            " ARIMA(2,0,1)(1,1,1)[3] intercept   : AIC=inf, Time=14.30 sec\n",
            " ARIMA(1,0,2)(1,1,1)[3]             : AIC=34422.983, Time=3.43 sec\n",
            " ARIMA(1,0,2)(0,1,1)[3]             : AIC=inf, Time=9.71 sec\n",
            " ARIMA(1,0,2)(1,1,0)[3]             : AIC=35371.329, Time=1.70 sec\n",
            " ARIMA(1,0,2)(2,1,1)[3]             : AIC=34424.963, Time=4.55 sec\n",
            " ARIMA(1,0,2)(1,1,2)[3]             : AIC=34424.962, Time=4.88 sec\n",
            " ARIMA(1,0,2)(0,1,0)[3]             : AIC=inf, Time=6.38 sec\n",
            " ARIMA(1,0,2)(0,1,2)[3]             : AIC=34423.317, Time=3.68 sec\n",
            " ARIMA(1,0,2)(2,1,0)[3]             : AIC=34967.826, Time=2.06 sec\n",
            " ARIMA(1,0,2)(2,1,2)[3]             : AIC=34426.964, Time=4.19 sec\n",
            " ARIMA(0,0,2)(1,1,1)[3]             : AIC=34442.609, Time=2.65 sec\n",
            " ARIMA(1,0,1)(1,1,1)[3]             : AIC=inf, Time=6.75 sec\n",
            " ARIMA(2,0,2)(1,1,1)[3]             : AIC=inf, Time=11.74 sec\n",
            " ARIMA(0,0,1)(1,1,1)[3]             : AIC=34510.737, Time=1.11 sec\n",
            " ARIMA(2,0,1)(1,1,1)[3]             : AIC=inf, Time=10.80 sec\n",
            "\n",
            "Best model:  ARIMA(1,0,2)(1,1,1)[3]          \n",
            "Total fit time: 295.598 seconds\n",
            "                                      SARIMAX Results                                      \n",
            "===========================================================================================\n",
            "Dep. Variable:                                   y   No. Observations:                 4447\n",
            "Model:             SARIMAX(1, 0, 2)x(1, 1, [1], 3)   Log Likelihood              -17205.492\n",
            "Date:                             Mon, 27 Mar 2023   AIC                          34422.983\n",
            "Time:                                     21:34:39   BIC                          34461.379\n",
            "Sample:                                          0   HQIC                         34436.521\n",
            "                                            - 4447                                         \n",
            "Covariance Type:                               opg                                         \n",
            "==============================================================================\n",
            "                 coef    std err          z      P>|z|      [0.025      0.975]\n",
            "------------------------------------------------------------------------------\n",
            "ar.L1         -0.4678      0.040    -11.558      0.000      -0.547      -0.388\n",
            "ma.L1          0.6121      0.040     15.152      0.000       0.533       0.691\n",
            "ma.L2          0.2196      0.006     35.485      0.000       0.207       0.232\n",
            "ar.S.L3        0.1197      0.008     14.370      0.000       0.103       0.136\n",
            "ma.S.L3       -0.8372      0.003   -290.324      0.000      -0.843      -0.832\n",
            "sigma2       134.9070      0.077   1754.269      0.000     134.756     135.058\n",
            "===================================================================================\n",
            "Ljung-Box (L1) (Q):                   0.16   Jarque-Bera (JB):        1429742708.19\n",
            "Prob(Q):                              0.69   Prob(JB):                         0.00\n",
            "Heteroskedasticity (H):              10.24   Skew:                            45.59\n",
            "Prob(H) (two-sided):                  0.00   Kurtosis:                      2780.24\n",
            "===================================================================================\n",
            "\n",
            "Warnings:\n",
            "[1] Covariance matrix calculated using the outer product of gradients (complex-step).\n",
            "\n",
            "\n",
            "=========For Netlfix=========\n",
            "Performing stepwise search to minimize aic\n",
            " ARIMA(1,0,1)(0,1,1)[3] intercept   : AIC=inf, Time=12.87 sec\n",
            " ARIMA(0,0,0)(0,1,0)[3] intercept   : AIC=36889.817, Time=0.15 sec\n",
            " ARIMA(1,0,0)(1,1,0)[3] intercept   : AIC=33274.636, Time=2.07 sec\n",
            " ARIMA(0,0,1)(0,1,1)[3] intercept   : AIC=34899.047, Time=2.36 sec\n",
            " ARIMA(0,0,0)(0,1,0)[3]             : AIC=36888.879, Time=0.12 sec\n",
            " ARIMA(1,0,0)(0,1,0)[3] intercept   : AIC=34252.914, Time=0.54 sec\n",
            " ARIMA(1,0,0)(2,1,0)[3] intercept   : AIC=32726.971, Time=4.71 sec\n",
            " ARIMA(1,0,0)(2,1,1)[3] intercept   : AIC=inf, Time=20.89 sec\n",
            " ARIMA(1,0,0)(1,1,1)[3] intercept   : AIC=inf, Time=10.84 sec\n",
            " ARIMA(0,0,0)(2,1,0)[3] intercept   : AIC=36857.033, Time=2.11 sec\n",
            " ARIMA(2,0,0)(2,1,0)[3] intercept   : AIC=32716.415, Time=5.24 sec\n",
            " ARIMA(2,0,0)(1,1,0)[3] intercept   : AIC=33246.480, Time=4.83 sec\n",
            " ARIMA(2,0,0)(2,1,1)[3] intercept   : AIC=inf, Time=26.34 sec\n",
            " ARIMA(2,0,0)(1,1,1)[3] intercept   : AIC=inf, Time=11.40 sec\n",
            " ARIMA(2,0,1)(2,1,0)[3] intercept   : AIC=32674.221, Time=13.57 sec\n",
            " ARIMA(2,0,1)(1,1,0)[3] intercept   : AIC=33267.274, Time=6.98 sec\n",
            " ARIMA(2,0,1)(2,1,1)[3] intercept   : AIC=inf, Time=23.27 sec\n",
            " ARIMA(2,0,1)(1,1,1)[3] intercept   : AIC=inf, Time=11.45 sec\n",
            " ARIMA(1,0,1)(2,1,0)[3] intercept   : AIC=32719.675, Time=5.51 sec\n",
            " ARIMA(2,0,2)(2,1,0)[3] intercept   : AIC=inf, Time=24.48 sec\n",
            " ARIMA(1,0,2)(2,1,0)[3] intercept   : AIC=inf, Time=18.17 sec\n",
            " ARIMA(2,0,1)(2,1,0)[3]             : AIC=32672.458, Time=5.23 sec\n",
            " ARIMA(2,0,1)(1,1,0)[3]             : AIC=33265.494, Time=1.99 sec\n",
            " ARIMA(2,0,1)(2,1,1)[3]             : AIC=inf, Time=16.98 sec\n",
            " ARIMA(2,0,1)(1,1,1)[3]             : AIC=inf, Time=14.71 sec\n",
            " ARIMA(1,0,1)(2,1,0)[3]             : AIC=32717.940, Time=2.10 sec\n",
            " ARIMA(2,0,0)(2,1,0)[3]             : AIC=32714.689, Time=2.88 sec\n",
            " ARIMA(2,0,2)(2,1,0)[3]             : AIC=inf, Time=16.40 sec\n",
            " ARIMA(1,0,0)(2,1,0)[3]             : AIC=32725.218, Time=2.74 sec\n",
            " ARIMA(1,0,2)(2,1,0)[3]             : AIC=inf, Time=13.30 sec\n",
            "\n",
            "Best model:  ARIMA(2,0,1)(2,1,0)[3]          \n",
            "Total fit time: 284.289 seconds\n",
            "                                     SARIMAX Results                                      \n",
            "==========================================================================================\n",
            "Dep. Variable:                                  y   No. Observations:                 4983\n",
            "Model:             SARIMAX(2, 0, 1)x(2, 1, [], 3)   Log Likelihood              -16330.229\n",
            "Date:                            Mon, 27 Mar 2023   AIC                          32672.458\n",
            "Time:                                    21:39:23   BIC                          32711.537\n",
            "Sample:                                         0   HQIC                         32686.158\n",
            "                                           - 4983                                         \n",
            "Covariance Type:                              opg                                         \n",
            "==============================================================================\n",
            "                 coef    std err          z      P>|z|      [0.025      0.975]\n",
            "------------------------------------------------------------------------------\n",
            "ar.L1         -0.0741      0.012     -6.064      0.000      -0.098      -0.050\n",
            "ar.L2          0.7709      0.010     77.803      0.000       0.751       0.790\n",
            "ma.L1          0.8657      0.014     62.818      0.000       0.839       0.893\n",
            "ar.S.L3       -0.5908      0.003   -174.211      0.000      -0.597      -0.584\n",
            "ar.S.L6       -0.3584      0.003   -115.946      0.000      -0.364      -0.352\n",
            "sigma2        41.2672      0.067    616.545      0.000      41.136      41.398\n",
            "===================================================================================\n",
            "Ljung-Box (L1) (Q):                  46.63   Jarque-Bera (JB):          26436775.12\n",
            "Prob(Q):                              0.00   Prob(JB):                         0.00\n",
            "Heteroskedasticity (H):               1.52   Skew:                            -8.58\n",
            "Prob(H) (two-sided):                  0.00   Kurtosis:                       359.53\n",
            "===================================================================================\n",
            "\n",
            "Warnings:\n",
            "[1] Covariance matrix calculated using the outer product of gradients (complex-step).\n",
            "\n",
            "\n"
          ]
        }
      ]
    },
    {
      "cell_type": "code",
      "source": [
        "def check_model_params(model, company):\n",
        "    print('The best parameters for {} are {}'.format(company, model))\n",
        "    print('==================')\n",
        "    "
      ],
      "metadata": {
        "id": "qL9x1kB3uzHn"
      },
      "execution_count": 21,
      "outputs": []
    },
    {
      "cell_type": "code",
      "source": [
        "check_model_params(aapl_arima_model, 'Apple')\n",
        "check_model_params(amzn_arima_model, 'Amazon')\n",
        "check_model_params(meta_arima_model, 'Facebook')\n",
        "check_model_params(googA_arima_model, 'Google Class A')\n",
        "check_model_params(googC_arima_model, 'Google Class C')\n",
        "check_model_params(ntfx_arima_model, 'Netflix')"
      ],
      "metadata": {
        "colab": {
          "base_uri": "https://localhost:8080/"
        },
        "id": "h9Z71479vB2T",
        "outputId": "84d6d5bb-77f8-47f5-f442-12c0c8dd5c06"
      },
      "execution_count": 22,
      "outputs": [
        {
          "output_type": "stream",
          "name": "stdout",
          "text": [
            "The best parameters for Apple are  ARIMA(2,0,1)(2,1,0)[3]          \n",
            "==================\n",
            "The best parameters for Amazon are  ARIMA(1,0,2)(1,1,1)[3]          \n",
            "==================\n",
            "The best parameters for Facebook are  ARIMA(2,0,0)(2,1,0)[3]          \n",
            "==================\n",
            "The best parameters for Google Class A are  ARIMA(0,0,2)(0,1,1)[3]          \n",
            "==================\n",
            "The best parameters for Google Class C are  ARIMA(1,0,2)(1,1,1)[3]          \n",
            "==================\n",
            "The best parameters for Netflix are  ARIMA(2,0,1)(2,1,0)[3]          \n",
            "==================\n"
          ]
        }
      ]
    },
    {
      "cell_type": "code",
      "source": [
        "def make_predictions_and_print_rmse(model, test_data, company):\n",
        "    print('=========For {}========='.format(company))\n",
        "    \n",
        "    forecast = model.predict(n_periods=len(test_data))   \n",
        "    print('MSE: %.2f' % mean_squared_error(test_data, forecast)) \n",
        "  \n",
        "    \n",
        "    return forecast"
      ],
      "metadata": {
        "id": "S8N8ox37vYti"
      },
      "execution_count": 23,
      "outputs": []
    },
    {
      "cell_type": "code",
      "source": [
        "forecast_aapl = make_predictions_and_print_rmse(aapl_arima_model, aapl_test, 'Apple')\n",
        "forecast_amzn= make_predictions_and_print_rmse(amzn_arima_model, amzn_test, 'Amazon')\n",
        "forecast_meta = make_predictions_and_print_rmse(meta_arima_model, meta_test, 'Facebook')\n",
        "forecast_googA = make_predictions_and_print_rmse(googA_arima_model, googA_test, 'Google Class A')\n",
        "forecast_googC= make_predictions_and_print_rmse(googC_arima_model, googC_test, 'Google Class C')\n",
        "forecast_ntfx = make_predictions_and_print_rmse(ntfx_arima_model, ntfx_test, 'Netflix')"
      ],
      "metadata": {
        "colab": {
          "base_uri": "https://localhost:8080/"
        },
        "id": "-kK8kfYcvg1F",
        "outputId": "68f901b4-2f13-4112-f444-623c21db224a"
      },
      "execution_count": 24,
      "outputs": [
        {
          "output_type": "stream",
          "name": "stdout",
          "text": [
            "=========For Apple=========\n",
            "MSE: 1777.26\n",
            "=========For Amazon=========\n",
            "MSE: 632.98\n",
            "=========For Facebook=========\n",
            "MSE: 1112.91\n",
            "=========For Google Class A=========\n",
            "MSE: 477.08\n",
            "=========For Google Class C=========\n",
            "MSE: 298.69\n",
            "=========For Netflix=========\n",
            "MSE: 60789.19\n"
          ]
        },
        {
          "output_type": "stream",
          "name": "stderr",
          "text": [
            "/usr/local/lib/python3.9/dist-packages/statsmodels/tsa/base/tsa_model.py:834: ValueWarning: No supported index is available. Prediction results will be given with an integer index beginning at `start`.\n",
            "  return get_prediction_index(\n",
            "/usr/local/lib/python3.9/dist-packages/statsmodels/tsa/base/tsa_model.py:834: ValueWarning: No supported index is available. Prediction results will be given with an integer index beginning at `start`.\n",
            "  return get_prediction_index(\n",
            "/usr/local/lib/python3.9/dist-packages/statsmodels/tsa/base/tsa_model.py:834: ValueWarning: No supported index is available. Prediction results will be given with an integer index beginning at `start`.\n",
            "  return get_prediction_index(\n",
            "/usr/local/lib/python3.9/dist-packages/statsmodels/tsa/base/tsa_model.py:834: ValueWarning: No supported index is available. Prediction results will be given with an integer index beginning at `start`.\n",
            "  return get_prediction_index(\n",
            "/usr/local/lib/python3.9/dist-packages/statsmodels/tsa/base/tsa_model.py:834: ValueWarning: No supported index is available. Prediction results will be given with an integer index beginning at `start`.\n",
            "  return get_prediction_index(\n",
            "/usr/local/lib/python3.9/dist-packages/statsmodels/tsa/base/tsa_model.py:834: ValueWarning: No supported index is available. Prediction results will be given with an integer index beginning at `start`.\n",
            "  return get_prediction_index(\n"
          ]
        }
      ]
    },
    {
      "cell_type": "code",
      "source": [
        "def plot(train_data,test_data,predicted_data,Company):\n",
        "  plt.plot(train_data.index, train_data, label='Actual (training)')\n",
        "  plt.plot(test_data.index, test_data, label='Actual (test)')\n",
        "  plt.plot(test_data.index, predicted_data, label='Predicted (test)')\n",
        "  plt.legend()\n",
        "  plt.xlabel('Date')\n",
        "  plt.ylabel('Stock Price')\n",
        "  plt.title('{} Stock Price Prediction'.format(Company))\n",
        "  plt.show()"
      ],
      "metadata": {
        "id": "FvY2BvKIClfJ"
      },
      "execution_count": 44,
      "outputs": []
    },
    {
      "cell_type": "code",
      "source": [
        "plot(aapl_train,aapl_test,forecast_aapl,\"Apple\")"
      ],
      "metadata": {
        "colab": {
          "base_uri": "https://localhost:8080/",
          "height": 295
        },
        "id": "yCL6MVWi1NON",
        "outputId": "64368bde-c448-43f2-c4a1-2c599c7cf196"
      },
      "execution_count": 45,
      "outputs": [
        {
          "output_type": "display_data",
          "data": {
            "text/plain": [
              "<Figure size 432x288 with 1 Axes>"
            ],
            "image/png": "[encoded data removed]"
          },
          "metadata": {
            "needs_background": "light"
          }
        }
      ]
    },
    {
      "cell_type": "code",
      "source": [
        "plot(amzn_train,amzn_test,forecast_amzn,\"Amazon\")"
      ],
      "metadata": {
        "colab": {
          "base_uri": "https://localhost:8080/",
          "height": 295
        },
        "id": "UQIk75MI1UOI",
        "outputId": "76ccc3e1-0ed4-41a4-a2ab-4743c4529415"
      },
      "execution_count": 46,
      "outputs": [
        {
          "output_type": "display_data",
          "data": {
            "text/plain": [
              "<Figure size 432x288 with 1 Axes>"
            ],
            "image/png": "[encoded data removed]"
          },
          "metadata": {
            "needs_background": "light"
          }
        }
      ]
    },
    {
      "cell_type": "code",
      "source": [
        "plot(meta_train,meta_test,forecast_meta,\"Facebook\")"
      ],
      "metadata": {
        "colab": {
          "base_uri": "https://localhost:8080/",
          "height": 295
        },
        "id": "ZepuQ--Z2Y4K",
        "outputId": "6801912b-a16e-4b0e-cf38-0659c38210f6"
      },
      "execution_count": 47,
      "outputs": [
        {
          "output_type": "display_data",
          "data": {
            "text/plain": [
              "<Figure size 432x288 with 1 Axes>"
            ],
            "image/png": "[encoded data removed]"
          },
          "metadata": {
            "needs_background": "light"
          }
        }
      ]
    },
    {
      "cell_type": "code",
      "source": [
        "plot(googA_train, googA_test,forecast_googA,\"Google Class A\")"
      ],
      "metadata": {
        "colab": {
          "base_uri": "https://localhost:8080/",
          "height": 295
        },
        "id": "L9hBlv9x2odt",
        "outputId": "37ddad54-898f-45e0-daf8-63f453a24baa"
      },
      "execution_count": 48,
      "outputs": [
        {
          "output_type": "display_data",
          "data": {
            "text/plain": [
              "<Figure size 432x288 with 1 Axes>"
            ],
            "image/png": "[encoded data removed]"
          },
          "metadata": {
            "needs_background": "light"
          }
        }
      ]
    },
    {
      "cell_type": "code",
      "source": [
        "plot(googC_train, googC_test,forecast_googC,\"Google Class C\")"
      ],
      "metadata": {
        "colab": {
          "base_uri": "https://localhost:8080/",
          "height": 295
        },
        "id": "mgOYDRXJ3dUR",
        "outputId": "4a5f5afb-ad89-4fec-a5c0-fafaa484615b"
      },
      "execution_count": 49,
      "outputs": [
        {
          "output_type": "display_data",
          "data": {
            "text/plain": [
              "<Figure size 432x288 with 1 Axes>"
            ],
            "image/png": "[encoded data removed]"
          },
          "metadata": {
            "needs_background": "light"
          }
        }
      ]
    },
    {
      "cell_type": "code",
      "source": [
        "plot(ntfx_train, ntfx_test,forecast_ntfx,\"Netflix\")"
      ],
      "metadata": {
        "colab": {
          "base_uri": "https://localhost:8080/",
          "height": 295
        },
        "id": "OXX1gvOw3m5C",
        "outputId": "7811aa38-cba5-4a1c-e2d7-94a3311d0256"
      },
      "execution_count": 50,
      "outputs": [
        {
          "output_type": "display_data",
          "data": {
            "text/plain": [
              "<Figure size 432x288 with 1 Axes>"
            ],
            "image/png": "[encoded data removed]"
          },
          "metadata": {
            "needs_background": "light"
          }
        }
      ]
    }
  ]
}