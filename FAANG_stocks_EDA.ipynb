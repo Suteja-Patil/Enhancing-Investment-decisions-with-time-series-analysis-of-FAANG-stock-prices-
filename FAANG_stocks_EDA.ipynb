{
  "nbformat": 4,
  "nbformat_minor": 0,
  "metadata": {
    "colab": {
      "provenance": []
    },
    "kernelspec": {
      "name": "python3",
      "display_name": "Python 3"
    },
    "language_info": {
      "name": "python"
    }
  },
  "cells": [
    {
      "cell_type": "code",
      "execution_count": 1,
      "metadata": {
        "id": "pLdxnIljY1yV"
      },
      "outputs": [],
      "source": [
        "import numpy as np\n",
        "import pandas as pd \n",
        "import matplotlib.pyplot as plt\n",
        "import os\n",
        "from dateutil.parser import parse\n",
        "import datetime\n",
        "from datetime import datetime"
      ]
    },
    {
      "cell_type": "code",
      "source": [
        "from google.colab import drive\n",
        "drive.mount('/content/drive')"
      ],
      "metadata": {
        "colab": {
          "base_uri": "https://localhost:8080/"
        },
        "id": "fe_nKpr1ZtSG",
        "outputId": "d625cfc1-8517-448c-c0c4-efd321f08da4"
      },
      "execution_count": 2,
      "outputs": [
        {
          "output_type": "stream",
          "name": "stdout",
          "text": [
            "Drive already mounted at /content/drive; to attempt to forcibly remount, call drive.mount(\"/content/drive\", force_remount=True).\n"
          ]
        }
      ]
    },
    {
      "cell_type": "code",
      "source": [
        "%cd /content/drive/My Drive/FAANG stocks/"
      ],
      "metadata": {
        "colab": {
          "base_uri": "https://localhost:8080/"
        },
        "id": "Xm7pdZxfZ2AX",
        "outputId": "f4103245-013e-4e2e-b520-dc855515614a"
      },
      "execution_count": 3,
      "outputs": [
        {
          "output_type": "stream",
          "name": "stdout",
          "text": [
            "/content/drive/My Drive/FAANG stocks\n"
          ]
        }
      ]
    },
    {
      "cell_type": "code",
      "source": [
        "import warnings\n",
        "warnings.filterwarnings('ignore')"
      ],
      "metadata": {
        "id": "4glsxnIlb50K"
      },
      "execution_count": 4,
      "outputs": []
    },
    {
      "cell_type": "code",
      "source": [
        "df_meta = pd.read_csv('META.csv')\n",
        "df_aapl = pd.read_csv('AAPL.csv')\n",
        "df_amzn = pd.read_csv('AMZN.csv')\n",
        "df_nflx = pd.read_csv('NFLX.csv')\n",
        "df_googl = pd.read_csv('GOOGL.csv')"
      ],
      "metadata": {
        "id": "NhcDW6zCaSsQ"
      },
      "execution_count": 5,
      "outputs": []
    },
    {
      "cell_type": "code",
      "source": [
        "df_googl.head()"
      ],
      "metadata": {
        "colab": {
          "base_uri": "https://localhost:8080/",
          "height": 206
        },
        "id": "6QjZQE0Dcerv",
        "outputId": "37c4e08f-4fff-4853-a235-4775f1e89d91"
      },
      "execution_count": 6,
      "outputs": [
        {
          "output_type": "execute_result",
          "data": {
            "text/plain": [
              "         Date Close/Last    Volume     Open     High      Low\n",
              "0  03/24/2023    $105.44  30411040  $104.99  $105.49  $103.84\n",
              "1  03/23/2023    $105.60  40797770  $105.06  $106.30  $104.46\n",
              "2  03/22/2023    $103.37  43427420  $104.27  $106.59  $103.33\n",
              "3  03/21/2023    $104.92  42110280  $101.25  $105.10  $101.22\n",
              "4  03/20/2023    $101.22  32960440  $100.12  $101.75   $99.87"
            ],
            "text/html": [
              "\n",
              "  <div id=\"df-be6acaca-289a-48ea-93de-e3393c1d1d3b\">\n",
              "    <div class=\"colab-df-container\">\n",
              "      <div>\n",
              "<style scoped>\n",
              "    .dataframe tbody tr th:only-of-type {\n",
              "        vertical-align: middle;\n",
              "    }\n",
              "\n",
              "    .dataframe tbody tr th {\n",
              "        vertical-align: top;\n",
              "    }\n",
              "\n",
              "    .dataframe thead th {\n",
              "        text-align: right;\n",
              "    }\n",
              "</style>\n",
              "<table border=\"1\" class=\"dataframe\">\n",
              "  <thead>\n",
              "    <tr style=\"text-align: right;\">\n",
              "      <th></th>\n",
              "      <th>Date</th>\n",
              "      <th>Close/Last</th>\n",
              "      <th>Volume</th>\n",
              "      <th>Open</th>\n",
              "      <th>High</th>\n",
              "      <th>Low</th>\n",
              "    </tr>\n",
              "  </thead>\n",
              "  <tbody>\n",
              "    <tr>\n",
              "      <th>0</th>\n",
              "      <td>03/24/2023</td>\n",
              "      <td>$105.44</td>\n",
              "      <td>30411040</td>\n",
              "      <td>$104.99</td>\n",
              "      <td>$105.49</td>\n",
              "      <td>$103.84</td>\n",
              "    </tr>\n",
              "    <tr>\n",
              "      <th>1</th>\n",
              "      <td>03/23/2023</td>\n",
              "      <td>$105.60</td>\n",
              "      <td>40797770</td>\n",
              "      <td>$105.06</td>\n",
              "      <td>$106.30</td>\n",
              "      <td>$104.46</td>\n",
              "    </tr>\n",
              "    <tr>\n",
              "      <th>2</th>\n",
              "      <td>03/22/2023</td>\n",
              "      <td>$103.37</td>\n",
              "      <td>43427420</td>\n",
              "      <td>$104.27</td>\n",
              "      <td>$106.59</td>\n",
              "      <td>$103.33</td>\n",
              "    </tr>\n",
              "    <tr>\n",
              "      <th>3</th>\n",
              "      <td>03/21/2023</td>\n",
              "      <td>$104.92</td>\n",
              "      <td>42110280</td>\n",
              "      <td>$101.25</td>\n",
              "      <td>$105.10</td>\n",
              "      <td>$101.22</td>\n",
              "    </tr>\n",
              "    <tr>\n",
              "      <th>4</th>\n",
              "      <td>03/20/2023</td>\n",
              "      <td>$101.22</td>\n",
              "      <td>32960440</td>\n",
              "      <td>$100.12</td>\n",
              "      <td>$101.75</td>\n",
              "      <td>$99.87</td>\n",
              "    </tr>\n",
              "  </tbody>\n",
              "</table>\n",
              "</div>\n",
              "      <button class=\"colab-df-convert\" onclick=\"convertToInteractive('df-be6acaca-289a-48ea-93de-e3393c1d1d3b')\"\n",
              "              title=\"Convert this dataframe to an interactive table.\"\n",
              "              style=\"display:none;\">\n",
              "        \n",
              "  <svg xmlns=\"http://www.w3.org/2000/svg\" height=\"24px\"viewBox=\"0 0 24 24\"\n",
              "       width=\"24px\">\n",
              "    <path d=\"M0 0h24v24H0V0z\" fill=\"none\"/>\n",
              "    <path d=\"M18.56 5.44l.94 2.06.94-2.06 2.06-.94-2.06-.94-.94-2.06-.94 2.06-2.06.94zm-11 1L8.5 8.5l.94-2.06 2.06-.94-2.06-.94L8.5 2.5l-.94 2.06-2.06.94zm10 10l.94 2.06.94-2.06 2.06-.94-2.06-.94-.94-2.06-.94 2.06-2.06.94z\"/><path d=\"M17.41 7.96l-1.37-1.37c-.4-.4-.92-.59-1.43-.59-.52 0-1.04.2-1.43.59L10.3 9.45l-7.72 7.72c-.78.78-.78 2.05 0 2.83L4 21.41c.39.39.9.59 1.41.59.51 0 1.02-.2 1.41-.59l7.78-7.78 2.81-2.81c.8-.78.8-2.07 0-2.86zM5.41 20L4 18.59l7.72-7.72 1.47 1.35L5.41 20z\"/>\n",
              "  </svg>\n",
              "      </button>\n",
              "      \n",
              "  <style>\n",
              "    .colab-df-container {\n",
              "      display:flex;\n",
              "      flex-wrap:wrap;\n",
              "      gap: 12px;\n",
              "    }\n",
              "\n",
              "    .colab-df-convert {\n",
              "      background-color: #E8F0FE;\n",
              "      border: none;\n",
              "      border-radius: 50%;\n",
              "      cursor: pointer;\n",
              "      display: none;\n",
              "      fill: #1967D2;\n",
              "      height: 32px;\n",
              "      padding: 0 0 0 0;\n",
              "      width: 32px;\n",
              "    }\n",
              "\n",
              "    .colab-df-convert:hover {\n",
              "      background-color: #E2EBFA;\n",
              "      box-shadow: 0px 1px 2px rgba(60, 64, 67, 0.3), 0px 1px 3px 1px rgba(60, 64, 67, 0.15);\n",
              "      fill: #174EA6;\n",
              "    }\n",
              "\n",
              "    [theme=dark] .colab-df-convert {\n",
              "      background-color: #3B4455;\n",
              "      fill: #D2E3FC;\n",
              "    }\n",
              "\n",
              "    [theme=dark] .colab-df-convert:hover {\n",
              "      background-color: #434B5C;\n",
              "      box-shadow: 0px 1px 3px 1px rgba(0, 0, 0, 0.15);\n",
              "      filter: drop-shadow(0px 1px 2px rgba(0, 0, 0, 0.3));\n",
              "      fill: #FFFFFF;\n",
              "    }\n",
              "  </style>\n",
              "\n",
              "      <script>\n",
              "        const buttonEl =\n",
              "          document.querySelector('#df-be6acaca-289a-48ea-93de-e3393c1d1d3b button.colab-df-convert');\n",
              "        buttonEl.style.display =\n",
              "          google.colab.kernel.accessAllowed ? 'block' : 'none';\n",
              "\n",
              "        async function convertToInteractive(key) {\n",
              "          const element = document.querySelector('#df-be6acaca-289a-48ea-93de-e3393c1d1d3b');\n",
              "          const dataTable =\n",
              "            await google.colab.kernel.invokeFunction('convertToInteractive',\n",
              "                                                     [key], {});\n",
              "          if (!dataTable) return;\n",
              "\n",
              "          const docLinkHtml = 'Like what you see? Visit the ' +\n",
              "            '<a target=\"_blank\" href=https://colab.research.google.com/notebooks/data_table.ipynb>data table notebook</a>'\n",
              "            + ' to learn more about interactive tables.';\n",
              "          element.innerHTML = '';\n",
              "          dataTable['output_type'] = 'display_data';\n",
              "          await google.colab.output.renderOutput(dataTable, element);\n",
              "          const docLink = document.createElement('div');\n",
              "          docLink.innerHTML = docLinkHtml;\n",
              "          element.appendChild(docLink);\n",
              "        }\n",
              "      </script>\n",
              "    </div>\n",
              "  </div>\n",
              "  "
            ]
          },
          "metadata": {},
          "execution_count": 6
        }
      ]
    },
    {
      "cell_type": "code",
      "source": [
        "type(df_googl['Date'])"
      ],
      "metadata": {
        "colab": {
          "base_uri": "https://localhost:8080/"
        },
        "id": "YzUJm7VF7_hb",
        "outputId": "2aeea3e5-aef4-4ebc-9ab7-5bc09caff5ec"
      },
      "execution_count": 7,
      "outputs": [
        {
          "output_type": "execute_result",
          "data": {
            "text/plain": [
              "pandas.core.series.Series"
            ]
          },
          "metadata": {},
          "execution_count": 7
        }
      ]
    },
    {
      "cell_type": "code",
      "source": [
        "df_googl['Date'] = pd.to_datetime(df_googl['Date'], format = '%m/%d/%Y').dt.date\n",
        "df_nflx['Date'] = pd.to_datetime(df_nflx['Date'], format = '%m/%d/%Y').dt.date\n",
        "df_amzn['Date'] = pd.to_datetime(df_amzn['Date'], format = '%m/%d/%Y').dt.date\n",
        "df_aapl['Date'] = pd.to_datetime(df_aapl['Date'], format = '%m/%d/%Y').dt.date\n",
        "df_meta['Date'] = pd.to_datetime(df_meta['Date'], format = '%m/%d/%Y').dt.date"
      ],
      "metadata": {
        "id": "5tdHWPT84JT7"
      },
      "execution_count": 8,
      "outputs": []
    },
    {
      "cell_type": "code",
      "source": [
        "df_googl['Close/Last'] =[x.strip('$') for x in df_googl['Close/Last']]\n",
        "df_googl['Open'] =[x.strip('$') for x in df_googl['Open']]\n",
        "df_googl['High'] =[x.strip('$') for x in df_googl['High']]\n",
        "df_googl['Low'] =[x.strip('$') for x in df_googl['Low']]\n",
        "\n",
        "df_nflx['Close/Last'] =[x.strip('$') for x in df_nflx['Close/Last']]\n",
        "df_nflx['Open'] =[x.strip('$') for x in df_nflx['Open']]\n",
        "df_nflx['High'] =[x.strip('$') for x in df_nflx['High']]\n",
        "df_nflx['Low'] =[x.strip('$') for x in df_nflx['Low']]\n",
        "\n",
        "\n",
        "df_amzn['Close/Last'] =[x.strip('$') for x in df_amzn['Close/Last']]\n",
        "df_amzn['Open'] =[x.strip('$') for x in df_amzn['Open']]\n",
        "df_amzn['High'] =[x.strip('$') for x in df_amzn['High']]\n",
        "df_amzn['Low'] =[x.strip('$') for x in df_amzn['Low']]\n",
        "\n",
        "df_aapl['Close/Last'] =[x.strip('$') for x in df_aapl['Close/Last']]\n",
        "df_aapl['Open'] =[x.strip('$') for x in df_aapl['Open']]\n",
        "df_aapl['High'] =[x.strip('$') for x in df_aapl['High']]\n",
        "df_aapl['Low'] =[x.strip('$') for x in df_aapl['Low']]\n",
        "\n",
        "df_meta['Close/Last'] =[x.strip('$') for x in df_meta['Close/Last']]\n",
        "df_meta['Open'] =[x.strip('$') for x in df_meta['Open']]\n",
        "df_meta['High'] =[x.strip('$') for x in df_meta['High']]\n",
        "df_meta['Low'] =[x.strip('$') for x in df_meta['Low']]"
      ],
      "metadata": {
        "id": "cAxuKKr95qCY"
      },
      "execution_count": 9,
      "outputs": []
    },
    {
      "cell_type": "code",
      "source": [
        "df_googl.head()"
      ],
      "metadata": {
        "colab": {
          "base_uri": "https://localhost:8080/",
          "height": 206
        },
        "id": "-0w-QcZich5d",
        "outputId": "a51c1b8b-ad33-4070-81bb-7f79340cf91d"
      },
      "execution_count": 10,
      "outputs": [
        {
          "output_type": "execute_result",
          "data": {
            "text/plain": [
              "         Date Close/Last    Volume    Open    High     Low\n",
              "0  2023-03-24     105.44  30411040  104.99  105.49  103.84\n",
              "1  2023-03-23     105.60  40797770  105.06  106.30  104.46\n",
              "2  2023-03-22     103.37  43427420  104.27  106.59  103.33\n",
              "3  2023-03-21     104.92  42110280  101.25  105.10  101.22\n",
              "4  2023-03-20     101.22  32960440  100.12  101.75   99.87"
            ],
            "text/html": [
              "\n",
              "  <div id=\"df-f279a4c2-4c2f-4fab-8125-08fca41361ba\">\n",
              "    <div class=\"colab-df-container\">\n",
              "      <div>\n",
              "<style scoped>\n",
              "    .dataframe tbody tr th:only-of-type {\n",
              "        vertical-align: middle;\n",
              "    }\n",
              "\n",
              "    .dataframe tbody tr th {\n",
              "        vertical-align: top;\n",
              "    }\n",
              "\n",
              "    .dataframe thead th {\n",
              "        text-align: right;\n",
              "    }\n",
              "</style>\n",
              "<table border=\"1\" class=\"dataframe\">\n",
              "  <thead>\n",
              "    <tr style=\"text-align: right;\">\n",
              "      <th></th>\n",
              "      <th>Date</th>\n",
              "      <th>Close/Last</th>\n",
              "      <th>Volume</th>\n",
              "      <th>Open</th>\n",
              "      <th>High</th>\n",
              "      <th>Low</th>\n",
              "    </tr>\n",
              "  </thead>\n",
              "  <tbody>\n",
              "    <tr>\n",
              "      <th>0</th>\n",
              "      <td>2023-03-24</td>\n",
              "      <td>105.44</td>\n",
              "      <td>30411040</td>\n",
              "      <td>104.99</td>\n",
              "      <td>105.49</td>\n",
              "      <td>103.84</td>\n",
              "    </tr>\n",
              "    <tr>\n",
              "      <th>1</th>\n",
              "      <td>2023-03-23</td>\n",
              "      <td>105.60</td>\n",
              "      <td>40797770</td>\n",
              "      <td>105.06</td>\n",
              "      <td>106.30</td>\n",
              "      <td>104.46</td>\n",
              "    </tr>\n",
              "    <tr>\n",
              "      <th>2</th>\n",
              "      <td>2023-03-22</td>\n",
              "      <td>103.37</td>\n",
              "      <td>43427420</td>\n",
              "      <td>104.27</td>\n",
              "      <td>106.59</td>\n",
              "      <td>103.33</td>\n",
              "    </tr>\n",
              "    <tr>\n",
              "      <th>3</th>\n",
              "      <td>2023-03-21</td>\n",
              "      <td>104.92</td>\n",
              "      <td>42110280</td>\n",
              "      <td>101.25</td>\n",
              "      <td>105.10</td>\n",
              "      <td>101.22</td>\n",
              "    </tr>\n",
              "    <tr>\n",
              "      <th>4</th>\n",
              "      <td>2023-03-20</td>\n",
              "      <td>101.22</td>\n",
              "      <td>32960440</td>\n",
              "      <td>100.12</td>\n",
              "      <td>101.75</td>\n",
              "      <td>99.87</td>\n",
              "    </tr>\n",
              "  </tbody>\n",
              "</table>\n",
              "</div>\n",
              "      <button class=\"colab-df-convert\" onclick=\"convertToInteractive('df-f279a4c2-4c2f-4fab-8125-08fca41361ba')\"\n",
              "              title=\"Convert this dataframe to an interactive table.\"\n",
              "              style=\"display:none;\">\n",
              "        \n",
              "  <svg xmlns=\"http://www.w3.org/2000/svg\" height=\"24px\"viewBox=\"0 0 24 24\"\n",
              "       width=\"24px\">\n",
              "    <path d=\"M0 0h24v24H0V0z\" fill=\"none\"/>\n",
              "    <path d=\"M18.56 5.44l.94 2.06.94-2.06 2.06-.94-2.06-.94-.94-2.06-.94 2.06-2.06.94zm-11 1L8.5 8.5l.94-2.06 2.06-.94-2.06-.94L8.5 2.5l-.94 2.06-2.06.94zm10 10l.94 2.06.94-2.06 2.06-.94-2.06-.94-.94-2.06-.94 2.06-2.06.94z\"/><path d=\"M17.41 7.96l-1.37-1.37c-.4-.4-.92-.59-1.43-.59-.52 0-1.04.2-1.43.59L10.3 9.45l-7.72 7.72c-.78.78-.78 2.05 0 2.83L4 21.41c.39.39.9.59 1.41.59.51 0 1.02-.2 1.41-.59l7.78-7.78 2.81-2.81c.8-.78.8-2.07 0-2.86zM5.41 20L4 18.59l7.72-7.72 1.47 1.35L5.41 20z\"/>\n",
              "  </svg>\n",
              "      </button>\n",
              "      \n",
              "  <style>\n",
              "    .colab-df-container {\n",
              "      display:flex;\n",
              "      flex-wrap:wrap;\n",
              "      gap: 12px;\n",
              "    }\n",
              "\n",
              "    .colab-df-convert {\n",
              "      background-color: #E8F0FE;\n",
              "      border: none;\n",
              "      border-radius: 50%;\n",
              "      cursor: pointer;\n",
              "      display: none;\n",
              "      fill: #1967D2;\n",
              "      height: 32px;\n",
              "      padding: 0 0 0 0;\n",
              "      width: 32px;\n",
              "    }\n",
              "\n",
              "    .colab-df-convert:hover {\n",
              "      background-color: #E2EBFA;\n",
              "      box-shadow: 0px 1px 2px rgba(60, 64, 67, 0.3), 0px 1px 3px 1px rgba(60, 64, 67, 0.15);\n",
              "      fill: #174EA6;\n",
              "    }\n",
              "\n",
              "    [theme=dark] .colab-df-convert {\n",
              "      background-color: #3B4455;\n",
              "      fill: #D2E3FC;\n",
              "    }\n",
              "\n",
              "    [theme=dark] .colab-df-convert:hover {\n",
              "      background-color: #434B5C;\n",
              "      box-shadow: 0px 1px 3px 1px rgba(0, 0, 0, 0.15);\n",
              "      filter: drop-shadow(0px 1px 2px rgba(0, 0, 0, 0.3));\n",
              "      fill: #FFFFFF;\n",
              "    }\n",
              "  </style>\n",
              "\n",
              "      <script>\n",
              "        const buttonEl =\n",
              "          document.querySelector('#df-f279a4c2-4c2f-4fab-8125-08fca41361ba button.colab-df-convert');\n",
              "        buttonEl.style.display =\n",
              "          google.colab.kernel.accessAllowed ? 'block' : 'none';\n",
              "\n",
              "        async function convertToInteractive(key) {\n",
              "          const element = document.querySelector('#df-f279a4c2-4c2f-4fab-8125-08fca41361ba');\n",
              "          const dataTable =\n",
              "            await google.colab.kernel.invokeFunction('convertToInteractive',\n",
              "                                                     [key], {});\n",
              "          if (!dataTable) return;\n",
              "\n",
              "          const docLinkHtml = 'Like what you see? Visit the ' +\n",
              "            '<a target=\"_blank\" href=https://colab.research.google.com/notebooks/data_table.ipynb>data table notebook</a>'\n",
              "            + ' to learn more about interactive tables.';\n",
              "          element.innerHTML = '';\n",
              "          dataTable['output_type'] = 'display_data';\n",
              "          await google.colab.output.renderOutput(dataTable, element);\n",
              "          const docLink = document.createElement('div');\n",
              "          docLink.innerHTML = docLinkHtml;\n",
              "          element.appendChild(docLink);\n",
              "        }\n",
              "      </script>\n",
              "    </div>\n",
              "  </div>\n",
              "  "
            ]
          },
          "metadata": {},
          "execution_count": 10
        }
      ]
    },
    {
      "cell_type": "code",
      "source": [
        "type(df_googl['Date'])"
      ],
      "metadata": {
        "colab": {
          "base_uri": "https://localhost:8080/"
        },
        "id": "-apOwuEeBQir",
        "outputId": "bcdfaaaf-f4e0-4909-a6f2-6cf6c5d63b13"
      },
      "execution_count": 11,
      "outputs": [
        {
          "output_type": "execute_result",
          "data": {
            "text/plain": [
              "pandas.core.series.Series"
            ]
          },
          "metadata": {},
          "execution_count": 11
        }
      ]
    },
    {
      "cell_type": "code",
      "source": [
        "df_meta['Date'] = df_meta.Date.astype(str)\n",
        "df_aapl['Date'] = df_aapl.Date.astype(str)\n",
        "df_amzn['Date'] = df_amzn.Date.astype(str)\n",
        "df_nflx['Date'] = df_nflx.Date.astype(str)\n",
        "df_googl['Date'] = df_googl.Date.astype(str)"
      ],
      "metadata": {
        "id": "El2u8A0XE_-V"
      },
      "execution_count": 13,
      "outputs": []
    },
    {
      "cell_type": "markdown",
      "source": [
        "### EDA"
      ],
      "metadata": {
        "id": "8tF3RwZWdLeX"
      }
    },
    {
      "cell_type": "code",
      "source": [
        "print('\\t\\tStart Date\\t\\tEnd Date')\n",
        "print('META\\t\\t{}\\t\\t{}'.format(df_meta['Date'][0], df_meta.iloc[-1, 0]))\n",
        "print('AAPL\\t\\t{}\\t\\t{}'.format(df_aapl['Date'][0], df_aapl.iloc[-1, 0]))\n",
        "print('AMZN\\t\\t{}\\t\\t{}'.format(df_amzn['Date'][0], df_amzn.iloc[-1, 0]))\n",
        "print('NFLX\\t\\t{}\\t\\t{}'.format(df_nflx['Date'][0], df_nflx.iloc[-1, 0]))\n",
        "print('GOOG\\t\\t{}\\t\\t{}'.format(df_googl['Date'][0], df_googl.iloc[-1, 0]))\n",
        "\n",
        "df_meta['Date'] = df_meta.Date.apply(parse)\n",
        "df_aapl['Date'] = df_aapl.Date.apply(parse)\n",
        "df_amzn['Date'] = df_amzn.Date.apply(parse)\n",
        "df_nflx['Date'] = df_nflx.Date.apply(parse)\n",
        "df_googl['Date'] = df_googl.Date.apply(parse)"
      ],
      "metadata": {
        "colab": {
          "base_uri": "https://localhost:8080/"
        },
        "id": "oUgd60y3BtzD",
        "outputId": "33f21ef5-5ef4-428f-fe35-7793e24b25c1"
      },
      "execution_count": 14,
      "outputs": [
        {
          "output_type": "stream",
          "name": "stdout",
          "text": [
            "\t\tStart Date\t\tEnd Date\n",
            "META\t\t2023-03-24\t\t2013-03-27\n",
            "AAPL\t\t2023-03-24\t\t2013-03-27\n",
            "AMZN\t\t2023-03-24\t\t2013-03-27\n",
            "NFLX\t\t2023-03-24\t\t2013-03-27\n",
            "GOOG\t\t2023-03-24\t\t2013-03-27\n"
          ]
        }
      ]
    }
  ]
}